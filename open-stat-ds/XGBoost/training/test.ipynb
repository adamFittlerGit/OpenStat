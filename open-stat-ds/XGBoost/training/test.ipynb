{
 "cells": [
  {
   "cell_type": "code",
   "execution_count": 3,
   "metadata": {},
   "outputs": [],
   "source": [
    "import joblib \n",
    "\n",
    "model = joblib.load('../models/xgb_model_bench.pkl')\n",
    "\n",
    "equipt_enc = joblib.load('../encoders/equipt_encoder.pkl')\n",
    "\n",
    "sex_enc = joblib.load('../encoders/sex_encoder.pkl')\n",
    "\n",
    "scl = joblib.load('../scalers/scaler_bench.pkl')"
   ]
  },
  {
   "cell_type": "code",
   "execution_count": 4,
   "metadata": {},
   "outputs": [
    {
     "name": "stdout",
     "output_type": "stream",
     "text": [
      "[246.02422, 234.95724, 229.00772, 223.4481, 217.53972, 216.44872, 212.39636, 208.8122, 204.22002, 203.4546]\n"
     ]
    },
    {
     "name": "stderr",
     "output_type": "stream",
     "text": [
      "/home/adam/miniconda3/envs/datascience/lib/python3.12/site-packages/sklearn/base.py:464: UserWarning: X does not have valid feature names, but StandardScaler was fitted with feature names\n",
      "  warnings.warn(\n",
      "/home/adam/miniconda3/envs/datascience/lib/python3.12/site-packages/sklearn/base.py:464: UserWarning: X does not have valid feature names, but StandardScaler was fitted with feature names\n",
      "  warnings.warn(\n",
      "/home/adam/miniconda3/envs/datascience/lib/python3.12/site-packages/sklearn/base.py:464: UserWarning: X does not have valid feature names, but StandardScaler was fitted with feature names\n",
      "  warnings.warn(\n",
      "/home/adam/miniconda3/envs/datascience/lib/python3.12/site-packages/sklearn/base.py:464: UserWarning: X does not have valid feature names, but StandardScaler was fitted with feature names\n",
      "  warnings.warn(\n",
      "/home/adam/miniconda3/envs/datascience/lib/python3.12/site-packages/sklearn/base.py:464: UserWarning: X does not have valid feature names, but StandardScaler was fitted with feature names\n",
      "  warnings.warn(\n",
      "/home/adam/miniconda3/envs/datascience/lib/python3.12/site-packages/sklearn/base.py:464: UserWarning: X does not have valid feature names, but StandardScaler was fitted with feature names\n",
      "  warnings.warn(\n",
      "/home/adam/miniconda3/envs/datascience/lib/python3.12/site-packages/sklearn/base.py:464: UserWarning: X does not have valid feature names, but StandardScaler was fitted with feature names\n",
      "  warnings.warn(\n",
      "/home/adam/miniconda3/envs/datascience/lib/python3.12/site-packages/sklearn/base.py:464: UserWarning: X does not have valid feature names, but StandardScaler was fitted with feature names\n",
      "  warnings.warn(\n",
      "/home/adam/miniconda3/envs/datascience/lib/python3.12/site-packages/sklearn/base.py:464: UserWarning: X does not have valid feature names, but StandardScaler was fitted with feature names\n",
      "  warnings.warn(\n",
      "/home/adam/miniconda3/envs/datascience/lib/python3.12/site-packages/sklearn/base.py:464: UserWarning: X does not have valid feature names, but StandardScaler was fitted with feature names\n",
      "  warnings.warn(\n"
     ]
    }
   ],
   "source": [
    "import numpy as np\n",
    "\n",
    "# Initialize an empty list to store the predictions\n",
    "predictions = []\n",
    "\n",
    "# Features for the first prediction\n",
    "features = np.array([[1, 30, 90, 1, 255, 250]])\n",
    "\n",
    "# Make 10 predictions\n",
    "for _ in range(10):\n",
    "    # Scale the features using the StandardScaler\n",
    "    scaled_features = scl.transform(features)\n",
    "\n",
    "    # Make a prediction using the XGBoost model\n",
    "    result = model.predict(scaled_features)\n",
    "\n",
    "    # Store the prediction\n",
    "    predictions.append(result[0])\n",
    "\n",
    "    # Update the features array with the latest prediction\n",
    "    features[0][-2] = features[0][-1]\n",
    "    features[0][-1] = result[0]\n",
    "\n",
    "print(predictions)"
   ]
  }
 ],
 "metadata": {
  "kernelspec": {
   "display_name": "datascience",
   "language": "python",
   "name": "python3"
  },
  "language_info": {
   "codemirror_mode": {
    "name": "ipython",
    "version": 3
   },
   "file_extension": ".py",
   "mimetype": "text/x-python",
   "name": "python",
   "nbconvert_exporter": "python",
   "pygments_lexer": "ipython3",
   "version": "3.12.2"
  }
 },
 "nbformat": 4,
 "nbformat_minor": 2
}
