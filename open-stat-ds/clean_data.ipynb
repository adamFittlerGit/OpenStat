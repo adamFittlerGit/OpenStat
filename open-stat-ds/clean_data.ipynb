{
 "cells": [
  {
   "cell_type": "markdown",
   "metadata": {},
   "source": [
    "# Cleaning Raw Data"
   ]
  },
  {
   "cell_type": "markdown",
   "metadata": {},
   "source": [
    "This will probably be converted to a standard python file but I wanted to first do some exploratory analysis and visualisations while cleaning the data "
   ]
  },
  {
   "cell_type": "code",
   "execution_count": 1,
   "metadata": {},
   "outputs": [],
   "source": [
    "import numpy as np \n",
    "import pandas as pd\n",
    "from IPython.display import display"
   ]
  },
  {
   "cell_type": "code",
   "execution_count": 2,
   "metadata": {},
   "outputs": [
    {
     "name": "stderr",
     "output_type": "stream",
     "text": [
      "/tmp/ipykernel_304877/1332353381.py:1: DtypeWarning: Columns (33,35,38) have mixed types. Specify dtype option on import or set low_memory=False.\n",
      "  df = pd.read_csv('./raw_data/raw_data.csv')\n"
     ]
    }
   ],
   "source": [
    "df = pd.read_csv('./raw_data/raw_data.csv')"
   ]
  },
  {
   "cell_type": "code",
   "execution_count": 3,
   "metadata": {},
   "outputs": [
    {
     "name": "stdout",
     "output_type": "stream",
     "text": [
      "<class 'pandas.core.frame.DataFrame'>\n",
      "RangeIndex: 3074785 entries, 0 to 3074784\n",
      "Data columns (total 41 columns):\n",
      " #   Column            Dtype  \n",
      "---  ------            -----  \n",
      " 0   Name              object \n",
      " 1   Sex               object \n",
      " 2   Event             object \n",
      " 3   Equipment         object \n",
      " 4   Age               float64\n",
      " 5   AgeClass          object \n",
      " 6   BirthYearClass    object \n",
      " 7   Division          object \n",
      " 8   BodyweightKg      float64\n",
      " 9   WeightClassKg     object \n",
      " 10  Squat1Kg          float64\n",
      " 11  Squat2Kg          float64\n",
      " 12  Squat3Kg          float64\n",
      " 13  Squat4Kg          float64\n",
      " 14  Best3SquatKg      float64\n",
      " 15  Bench1Kg          float64\n",
      " 16  Bench2Kg          float64\n",
      " 17  Bench3Kg          float64\n",
      " 18  Bench4Kg          float64\n",
      " 19  Best3BenchKg      float64\n",
      " 20  Deadlift1Kg       float64\n",
      " 21  Deadlift2Kg       float64\n",
      " 22  Deadlift3Kg       float64\n",
      " 23  Deadlift4Kg       float64\n",
      " 24  Best3DeadliftKg   float64\n",
      " 25  TotalKg           float64\n",
      " 26  Place             object \n",
      " 27  Dots              float64\n",
      " 28  Wilks             float64\n",
      " 29  Glossbrenner      float64\n",
      " 30  Goodlift          float64\n",
      " 31  Tested            object \n",
      " 32  Country           object \n",
      " 33  State             object \n",
      " 34  Federation        object \n",
      " 35  ParentFederation  object \n",
      " 36  Date              object \n",
      " 37  MeetCountry       object \n",
      " 38  MeetState         object \n",
      " 39  MeetTown          object \n",
      " 40  MeetName          object \n",
      "dtypes: float64(22), object(19)\n",
      "memory usage: 961.8+ MB\n"
     ]
    }
   ],
   "source": [
    "df.info()"
   ]
  },
  {
   "cell_type": "code",
   "execution_count": 4,
   "metadata": {},
   "outputs": [
    {
     "data": {
      "text/html": [
       "<div>\n",
       "<style scoped>\n",
       "    .dataframe tbody tr th:only-of-type {\n",
       "        vertical-align: middle;\n",
       "    }\n",
       "\n",
       "    .dataframe tbody tr th {\n",
       "        vertical-align: top;\n",
       "    }\n",
       "\n",
       "    .dataframe thead th {\n",
       "        text-align: right;\n",
       "    }\n",
       "</style>\n",
       "<table border=\"1\" class=\"dataframe\">\n",
       "  <thead>\n",
       "    <tr style=\"text-align: right;\">\n",
       "      <th></th>\n",
       "      <th>Name</th>\n",
       "      <th>Sex</th>\n",
       "      <th>Event</th>\n",
       "      <th>Equipment</th>\n",
       "      <th>Age</th>\n",
       "      <th>AgeClass</th>\n",
       "      <th>BirthYearClass</th>\n",
       "      <th>Division</th>\n",
       "      <th>BodyweightKg</th>\n",
       "      <th>WeightClassKg</th>\n",
       "      <th>...</th>\n",
       "      <th>Tested</th>\n",
       "      <th>Country</th>\n",
       "      <th>State</th>\n",
       "      <th>Federation</th>\n",
       "      <th>ParentFederation</th>\n",
       "      <th>Date</th>\n",
       "      <th>MeetCountry</th>\n",
       "      <th>MeetState</th>\n",
       "      <th>MeetTown</th>\n",
       "      <th>MeetName</th>\n",
       "    </tr>\n",
       "  </thead>\n",
       "  <tbody>\n",
       "    <tr>\n",
       "      <th>0</th>\n",
       "      <td>Alona Vladi</td>\n",
       "      <td>F</td>\n",
       "      <td>SBD</td>\n",
       "      <td>Raw</td>\n",
       "      <td>33.0</td>\n",
       "      <td>24-34</td>\n",
       "      <td>24-39</td>\n",
       "      <td>O</td>\n",
       "      <td>58.30</td>\n",
       "      <td>60</td>\n",
       "      <td>...</td>\n",
       "      <td>Yes</td>\n",
       "      <td>Russia</td>\n",
       "      <td>NaN</td>\n",
       "      <td>GFP</td>\n",
       "      <td>NaN</td>\n",
       "      <td>2019-05-11</td>\n",
       "      <td>Russia</td>\n",
       "      <td>NaN</td>\n",
       "      <td>Bryansk</td>\n",
       "      <td>Open Tournament</td>\n",
       "    </tr>\n",
       "    <tr>\n",
       "      <th>1</th>\n",
       "      <td>Galina Solovyanova</td>\n",
       "      <td>F</td>\n",
       "      <td>SBD</td>\n",
       "      <td>Raw</td>\n",
       "      <td>43.0</td>\n",
       "      <td>40-44</td>\n",
       "      <td>40-49</td>\n",
       "      <td>M1</td>\n",
       "      <td>73.10</td>\n",
       "      <td>75</td>\n",
       "      <td>...</td>\n",
       "      <td>Yes</td>\n",
       "      <td>Russia</td>\n",
       "      <td>NaN</td>\n",
       "      <td>GFP</td>\n",
       "      <td>NaN</td>\n",
       "      <td>2019-05-11</td>\n",
       "      <td>Russia</td>\n",
       "      <td>NaN</td>\n",
       "      <td>Bryansk</td>\n",
       "      <td>Open Tournament</td>\n",
       "    </tr>\n",
       "    <tr>\n",
       "      <th>2</th>\n",
       "      <td>Daniil Voronin</td>\n",
       "      <td>M</td>\n",
       "      <td>SBD</td>\n",
       "      <td>Raw</td>\n",
       "      <td>15.5</td>\n",
       "      <td>16-17</td>\n",
       "      <td>14-18</td>\n",
       "      <td>T</td>\n",
       "      <td>67.40</td>\n",
       "      <td>75</td>\n",
       "      <td>...</td>\n",
       "      <td>Yes</td>\n",
       "      <td>Russia</td>\n",
       "      <td>NaN</td>\n",
       "      <td>GFP</td>\n",
       "      <td>NaN</td>\n",
       "      <td>2019-05-11</td>\n",
       "      <td>Russia</td>\n",
       "      <td>NaN</td>\n",
       "      <td>Bryansk</td>\n",
       "      <td>Open Tournament</td>\n",
       "    </tr>\n",
       "    <tr>\n",
       "      <th>3</th>\n",
       "      <td>Aleksey Krasov</td>\n",
       "      <td>M</td>\n",
       "      <td>SBD</td>\n",
       "      <td>Raw</td>\n",
       "      <td>35.0</td>\n",
       "      <td>35-39</td>\n",
       "      <td>24-39</td>\n",
       "      <td>O</td>\n",
       "      <td>66.65</td>\n",
       "      <td>75</td>\n",
       "      <td>...</td>\n",
       "      <td>Yes</td>\n",
       "      <td>Russia</td>\n",
       "      <td>NaN</td>\n",
       "      <td>GFP</td>\n",
       "      <td>NaN</td>\n",
       "      <td>2019-05-11</td>\n",
       "      <td>Russia</td>\n",
       "      <td>NaN</td>\n",
       "      <td>Bryansk</td>\n",
       "      <td>Open Tournament</td>\n",
       "    </tr>\n",
       "    <tr>\n",
       "      <th>4</th>\n",
       "      <td>Margarita Pleschenkova</td>\n",
       "      <td>M</td>\n",
       "      <td>SBD</td>\n",
       "      <td>Raw</td>\n",
       "      <td>26.5</td>\n",
       "      <td>24-34</td>\n",
       "      <td>24-39</td>\n",
       "      <td>O</td>\n",
       "      <td>72.45</td>\n",
       "      <td>75</td>\n",
       "      <td>...</td>\n",
       "      <td>Yes</td>\n",
       "      <td>Russia</td>\n",
       "      <td>NaN</td>\n",
       "      <td>GFP</td>\n",
       "      <td>NaN</td>\n",
       "      <td>2019-05-11</td>\n",
       "      <td>Russia</td>\n",
       "      <td>NaN</td>\n",
       "      <td>Bryansk</td>\n",
       "      <td>Open Tournament</td>\n",
       "    </tr>\n",
       "  </tbody>\n",
       "</table>\n",
       "<p>5 rows × 41 columns</p>\n",
       "</div>"
      ],
      "text/plain": [
       "                     Name Sex Event Equipment   Age AgeClass BirthYearClass  \\\n",
       "0             Alona Vladi   F   SBD       Raw  33.0    24-34          24-39   \n",
       "1      Galina Solovyanova   F   SBD       Raw  43.0    40-44          40-49   \n",
       "2          Daniil Voronin   M   SBD       Raw  15.5    16-17          14-18   \n",
       "3          Aleksey Krasov   M   SBD       Raw  35.0    35-39          24-39   \n",
       "4  Margarita Pleschenkova   M   SBD       Raw  26.5    24-34          24-39   \n",
       "\n",
       "  Division  BodyweightKg WeightClassKg  ...  Tested  Country  State  \\\n",
       "0        O         58.30            60  ...     Yes   Russia    NaN   \n",
       "1       M1         73.10            75  ...     Yes   Russia    NaN   \n",
       "2        T         67.40            75  ...     Yes   Russia    NaN   \n",
       "3        O         66.65            75  ...     Yes   Russia    NaN   \n",
       "4        O         72.45            75  ...     Yes   Russia    NaN   \n",
       "\n",
       "   Federation  ParentFederation        Date  MeetCountry  MeetState  MeetTown  \\\n",
       "0         GFP               NaN  2019-05-11       Russia        NaN   Bryansk   \n",
       "1         GFP               NaN  2019-05-11       Russia        NaN   Bryansk   \n",
       "2         GFP               NaN  2019-05-11       Russia        NaN   Bryansk   \n",
       "3         GFP               NaN  2019-05-11       Russia        NaN   Bryansk   \n",
       "4         GFP               NaN  2019-05-11       Russia        NaN   Bryansk   \n",
       "\n",
       "          MeetName  \n",
       "0  Open Tournament  \n",
       "1  Open Tournament  \n",
       "2  Open Tournament  \n",
       "3  Open Tournament  \n",
       "4  Open Tournament  \n",
       "\n",
       "[5 rows x 41 columns]"
      ]
     },
     "execution_count": 4,
     "metadata": {},
     "output_type": "execute_result"
    }
   ],
   "source": [
    "df.head()"
   ]
  },
  {
   "cell_type": "code",
   "execution_count": 5,
   "metadata": {},
   "outputs": [
    {
     "data": {
      "text/plain": [
       "<bound method NDFrame.describe of                            Name Sex Event   Equipment   Age AgeClass  \\\n",
       "0                   Alona Vladi   F   SBD         Raw  33.0    24-34   \n",
       "1            Galina Solovyanova   F   SBD         Raw  43.0    40-44   \n",
       "2                Daniil Voronin   M   SBD         Raw  15.5    16-17   \n",
       "3                Aleksey Krasov   M   SBD         Raw  35.0    35-39   \n",
       "4        Margarita Pleschenkova   M   SBD         Raw  26.5    24-34   \n",
       "...                         ...  ..   ...         ...   ...      ...   \n",
       "3074780            Inna Orobets   F   SBD  Single-ply  45.0    45-49   \n",
       "3074781             Ágnes Szabó   F   SBD  Single-ply  27.5    24-34   \n",
       "3074782   Brenda van der Meulen   F   SBD  Single-ply  37.5    35-39   \n",
       "3074783            Kelly Phasey   F   SBD  Single-ply  39.5    35-39   \n",
       "3074784  Hildeborg Juvet Hugdal   F   SBD  Single-ply  32.5    24-34   \n",
       "\n",
       "        BirthYearClass Division  BodyweightKg WeightClassKg  ...  Tested  \\\n",
       "0                24-39        O         58.30            60  ...     Yes   \n",
       "1                40-49       M1         73.10            75  ...     Yes   \n",
       "2                14-18        T         67.40            75  ...     Yes   \n",
       "3                24-39        O         66.65            75  ...     Yes   \n",
       "4                24-39        O         72.45            75  ...     Yes   \n",
       "...                ...      ...           ...           ...  ...     ...   \n",
       "3074780          40-49     Open        109.30           84+  ...     Yes   \n",
       "3074781          24-39     Open        113.22           84+  ...     Yes   \n",
       "3074782          24-39     Open        110.79           84+  ...     Yes   \n",
       "3074783          40-49     Open        124.53           84+  ...     Yes   \n",
       "3074784          24-39     Open        123.00           84+  ...     Yes   \n",
       "\n",
       "             Country  State  Federation  ParentFederation        Date  \\\n",
       "0             Russia    NaN         GFP               NaN  2019-05-11   \n",
       "1             Russia    NaN         GFP               NaN  2019-05-11   \n",
       "2             Russia    NaN         GFP               NaN  2019-05-11   \n",
       "3             Russia    NaN         GFP               NaN  2019-05-11   \n",
       "4             Russia    NaN         GFP               NaN  2019-05-11   \n",
       "...              ...    ...         ...               ...         ...   \n",
       "3074780      Ukraine    NaN         IPF               IPF  2016-11-14   \n",
       "3074781      Hungary    NaN         IPF               IPF  2016-11-14   \n",
       "3074782  Netherlands    NaN         IPF               IPF  2016-11-14   \n",
       "3074783      England    NaN         IPF               IPF  2016-11-14   \n",
       "3074784       Norway    NaN         IPF               IPF  2016-11-14   \n",
       "\n",
       "         MeetCountry  MeetState  MeetTown                  MeetName  \n",
       "0             Russia        NaN   Bryansk           Open Tournament  \n",
       "1             Russia        NaN   Bryansk           Open Tournament  \n",
       "2             Russia        NaN   Bryansk           Open Tournament  \n",
       "3             Russia        NaN   Bryansk           Open Tournament  \n",
       "4             Russia        NaN   Bryansk           Open Tournament  \n",
       "...              ...        ...       ...                       ...  \n",
       "3074780          USA        NaN   Orlando  World Open Championships  \n",
       "3074781          USA        NaN   Orlando  World Open Championships  \n",
       "3074782          USA        NaN   Orlando  World Open Championships  \n",
       "3074783          USA        NaN   Orlando  World Open Championships  \n",
       "3074784          USA        NaN   Orlando  World Open Championships  \n",
       "\n",
       "[3074785 rows x 41 columns]>"
      ]
     },
     "execution_count": 5,
     "metadata": {},
     "output_type": "execute_result"
    }
   ],
   "source": [
    "df.describe"
   ]
  },
  {
   "cell_type": "code",
   "execution_count": 6,
   "metadata": {},
   "outputs": [
    {
     "data": {
      "text/plain": [
       "Index(['Name', 'Sex', 'Event', 'Equipment', 'Age', 'AgeClass',\n",
       "       'BirthYearClass', 'Division', 'BodyweightKg', 'WeightClassKg',\n",
       "       'Squat1Kg', 'Squat2Kg', 'Squat3Kg', 'Squat4Kg', 'Best3SquatKg',\n",
       "       'Bench1Kg', 'Bench2Kg', 'Bench3Kg', 'Bench4Kg', 'Best3BenchKg',\n",
       "       'Deadlift1Kg', 'Deadlift2Kg', 'Deadlift3Kg', 'Deadlift4Kg',\n",
       "       'Best3DeadliftKg', 'TotalKg', 'Place', 'Dots', 'Wilks', 'Glossbrenner',\n",
       "       'Goodlift', 'Tested', 'Country', 'State', 'Federation',\n",
       "       'ParentFederation', 'Date', 'MeetCountry', 'MeetState', 'MeetTown',\n",
       "       'MeetName'],\n",
       "      dtype='object')"
      ]
     },
     "execution_count": 6,
     "metadata": {},
     "output_type": "execute_result"
    }
   ],
   "source": [
    "df.columns"
   ]
  },
  {
   "cell_type": "code",
   "execution_count": 7,
   "metadata": {},
   "outputs": [
    {
     "data": {
      "text/plain": [
       "Name                    0\n",
       "Sex                     0\n",
       "Event                   0\n",
       "Equipment               0\n",
       "Age               1074371\n",
       "AgeClass           818026\n",
       "BirthYearClass    1004731\n",
       "Division             1435\n",
       "BodyweightKg        38576\n",
       "WeightClassKg       41476\n",
       "dtype: int64"
      ]
     },
     "execution_count": 7,
     "metadata": {},
     "output_type": "execute_result"
    }
   ],
   "source": [
    "missing_values_count = df.isnull().sum()\n",
    "\n",
    "# look at the # of missing points in the first ten columns\n",
    "missing_values_count[0:10]"
   ]
  },
  {
   "cell_type": "code",
   "execution_count": 8,
   "metadata": {},
   "outputs": [
    {
     "name": "stdout",
     "output_type": "stream",
     "text": [
      "31.993323189719746\n"
     ]
    }
   ],
   "source": [
    "total_cells = np.product(df.shape)\n",
    "total_missing = missing_values_count.sum()\n",
    "\n",
    "# percent of data that is missing\n",
    "percent_missing = (total_missing/total_cells) * 100\n",
    "print(percent_missing)"
   ]
  },
  {
   "cell_type": "code",
   "execution_count": 9,
   "metadata": {},
   "outputs": [
    {
     "data": {
      "text/html": [
       "<div>\n",
       "<style scoped>\n",
       "    .dataframe tbody tr th:only-of-type {\n",
       "        vertical-align: middle;\n",
       "    }\n",
       "\n",
       "    .dataframe tbody tr th {\n",
       "        vertical-align: top;\n",
       "    }\n",
       "\n",
       "    .dataframe thead th {\n",
       "        text-align: right;\n",
       "    }\n",
       "</style>\n",
       "<table border=\"1\" class=\"dataframe\">\n",
       "  <thead>\n",
       "    <tr style=\"text-align: right;\">\n",
       "      <th></th>\n",
       "      <th>Name</th>\n",
       "      <th>Sex</th>\n",
       "      <th>Event</th>\n",
       "      <th>Equipment</th>\n",
       "      <th>Age</th>\n",
       "      <th>AgeClass</th>\n",
       "      <th>BirthYearClass</th>\n",
       "      <th>Division</th>\n",
       "      <th>BodyweightKg</th>\n",
       "      <th>WeightClassKg</th>\n",
       "      <th>...</th>\n",
       "      <th>Tested</th>\n",
       "      <th>Country</th>\n",
       "      <th>State</th>\n",
       "      <th>Federation</th>\n",
       "      <th>ParentFederation</th>\n",
       "      <th>Date</th>\n",
       "      <th>MeetCountry</th>\n",
       "      <th>MeetState</th>\n",
       "      <th>MeetTown</th>\n",
       "      <th>MeetName</th>\n",
       "    </tr>\n",
       "  </thead>\n",
       "  <tbody>\n",
       "    <tr>\n",
       "      <th>0</th>\n",
       "      <td>Alona Vladi</td>\n",
       "      <td>F</td>\n",
       "      <td>SBD</td>\n",
       "      <td>Raw</td>\n",
       "      <td>33.0</td>\n",
       "      <td>24-34</td>\n",
       "      <td>24-39</td>\n",
       "      <td>O</td>\n",
       "      <td>58.30</td>\n",
       "      <td>60</td>\n",
       "      <td>...</td>\n",
       "      <td>Yes</td>\n",
       "      <td>Russia</td>\n",
       "      <td>0</td>\n",
       "      <td>GFP</td>\n",
       "      <td>0</td>\n",
       "      <td>2019-05-11</td>\n",
       "      <td>Russia</td>\n",
       "      <td>0</td>\n",
       "      <td>Bryansk</td>\n",
       "      <td>Open Tournament</td>\n",
       "    </tr>\n",
       "    <tr>\n",
       "      <th>1</th>\n",
       "      <td>Galina Solovyanova</td>\n",
       "      <td>F</td>\n",
       "      <td>SBD</td>\n",
       "      <td>Raw</td>\n",
       "      <td>43.0</td>\n",
       "      <td>40-44</td>\n",
       "      <td>40-49</td>\n",
       "      <td>M1</td>\n",
       "      <td>73.10</td>\n",
       "      <td>75</td>\n",
       "      <td>...</td>\n",
       "      <td>Yes</td>\n",
       "      <td>Russia</td>\n",
       "      <td>0</td>\n",
       "      <td>GFP</td>\n",
       "      <td>0</td>\n",
       "      <td>2019-05-11</td>\n",
       "      <td>Russia</td>\n",
       "      <td>0</td>\n",
       "      <td>Bryansk</td>\n",
       "      <td>Open Tournament</td>\n",
       "    </tr>\n",
       "    <tr>\n",
       "      <th>2</th>\n",
       "      <td>Daniil Voronin</td>\n",
       "      <td>M</td>\n",
       "      <td>SBD</td>\n",
       "      <td>Raw</td>\n",
       "      <td>15.5</td>\n",
       "      <td>16-17</td>\n",
       "      <td>14-18</td>\n",
       "      <td>T</td>\n",
       "      <td>67.40</td>\n",
       "      <td>75</td>\n",
       "      <td>...</td>\n",
       "      <td>Yes</td>\n",
       "      <td>Russia</td>\n",
       "      <td>0</td>\n",
       "      <td>GFP</td>\n",
       "      <td>0</td>\n",
       "      <td>2019-05-11</td>\n",
       "      <td>Russia</td>\n",
       "      <td>0</td>\n",
       "      <td>Bryansk</td>\n",
       "      <td>Open Tournament</td>\n",
       "    </tr>\n",
       "    <tr>\n",
       "      <th>3</th>\n",
       "      <td>Aleksey Krasov</td>\n",
       "      <td>M</td>\n",
       "      <td>SBD</td>\n",
       "      <td>Raw</td>\n",
       "      <td>35.0</td>\n",
       "      <td>35-39</td>\n",
       "      <td>24-39</td>\n",
       "      <td>O</td>\n",
       "      <td>66.65</td>\n",
       "      <td>75</td>\n",
       "      <td>...</td>\n",
       "      <td>Yes</td>\n",
       "      <td>Russia</td>\n",
       "      <td>0</td>\n",
       "      <td>GFP</td>\n",
       "      <td>0</td>\n",
       "      <td>2019-05-11</td>\n",
       "      <td>Russia</td>\n",
       "      <td>0</td>\n",
       "      <td>Bryansk</td>\n",
       "      <td>Open Tournament</td>\n",
       "    </tr>\n",
       "    <tr>\n",
       "      <th>4</th>\n",
       "      <td>Margarita Pleschenkova</td>\n",
       "      <td>M</td>\n",
       "      <td>SBD</td>\n",
       "      <td>Raw</td>\n",
       "      <td>26.5</td>\n",
       "      <td>24-34</td>\n",
       "      <td>24-39</td>\n",
       "      <td>O</td>\n",
       "      <td>72.45</td>\n",
       "      <td>75</td>\n",
       "      <td>...</td>\n",
       "      <td>Yes</td>\n",
       "      <td>Russia</td>\n",
       "      <td>0</td>\n",
       "      <td>GFP</td>\n",
       "      <td>0</td>\n",
       "      <td>2019-05-11</td>\n",
       "      <td>Russia</td>\n",
       "      <td>0</td>\n",
       "      <td>Bryansk</td>\n",
       "      <td>Open Tournament</td>\n",
       "    </tr>\n",
       "    <tr>\n",
       "      <th>...</th>\n",
       "      <td>...</td>\n",
       "      <td>...</td>\n",
       "      <td>...</td>\n",
       "      <td>...</td>\n",
       "      <td>...</td>\n",
       "      <td>...</td>\n",
       "      <td>...</td>\n",
       "      <td>...</td>\n",
       "      <td>...</td>\n",
       "      <td>...</td>\n",
       "      <td>...</td>\n",
       "      <td>...</td>\n",
       "      <td>...</td>\n",
       "      <td>...</td>\n",
       "      <td>...</td>\n",
       "      <td>...</td>\n",
       "      <td>...</td>\n",
       "      <td>...</td>\n",
       "      <td>...</td>\n",
       "      <td>...</td>\n",
       "      <td>...</td>\n",
       "    </tr>\n",
       "    <tr>\n",
       "      <th>3074780</th>\n",
       "      <td>Inna Orobets</td>\n",
       "      <td>F</td>\n",
       "      <td>SBD</td>\n",
       "      <td>Single-ply</td>\n",
       "      <td>45.0</td>\n",
       "      <td>45-49</td>\n",
       "      <td>40-49</td>\n",
       "      <td>Open</td>\n",
       "      <td>109.30</td>\n",
       "      <td>84+</td>\n",
       "      <td>...</td>\n",
       "      <td>Yes</td>\n",
       "      <td>Ukraine</td>\n",
       "      <td>0</td>\n",
       "      <td>IPF</td>\n",
       "      <td>IPF</td>\n",
       "      <td>2016-11-14</td>\n",
       "      <td>USA</td>\n",
       "      <td>0</td>\n",
       "      <td>Orlando</td>\n",
       "      <td>World Open Championships</td>\n",
       "    </tr>\n",
       "    <tr>\n",
       "      <th>3074781</th>\n",
       "      <td>Ágnes Szabó</td>\n",
       "      <td>F</td>\n",
       "      <td>SBD</td>\n",
       "      <td>Single-ply</td>\n",
       "      <td>27.5</td>\n",
       "      <td>24-34</td>\n",
       "      <td>24-39</td>\n",
       "      <td>Open</td>\n",
       "      <td>113.22</td>\n",
       "      <td>84+</td>\n",
       "      <td>...</td>\n",
       "      <td>Yes</td>\n",
       "      <td>Hungary</td>\n",
       "      <td>0</td>\n",
       "      <td>IPF</td>\n",
       "      <td>IPF</td>\n",
       "      <td>2016-11-14</td>\n",
       "      <td>USA</td>\n",
       "      <td>0</td>\n",
       "      <td>Orlando</td>\n",
       "      <td>World Open Championships</td>\n",
       "    </tr>\n",
       "    <tr>\n",
       "      <th>3074782</th>\n",
       "      <td>Brenda van der Meulen</td>\n",
       "      <td>F</td>\n",
       "      <td>SBD</td>\n",
       "      <td>Single-ply</td>\n",
       "      <td>37.5</td>\n",
       "      <td>35-39</td>\n",
       "      <td>24-39</td>\n",
       "      <td>Open</td>\n",
       "      <td>110.79</td>\n",
       "      <td>84+</td>\n",
       "      <td>...</td>\n",
       "      <td>Yes</td>\n",
       "      <td>Netherlands</td>\n",
       "      <td>0</td>\n",
       "      <td>IPF</td>\n",
       "      <td>IPF</td>\n",
       "      <td>2016-11-14</td>\n",
       "      <td>USA</td>\n",
       "      <td>0</td>\n",
       "      <td>Orlando</td>\n",
       "      <td>World Open Championships</td>\n",
       "    </tr>\n",
       "    <tr>\n",
       "      <th>3074783</th>\n",
       "      <td>Kelly Phasey</td>\n",
       "      <td>F</td>\n",
       "      <td>SBD</td>\n",
       "      <td>Single-ply</td>\n",
       "      <td>39.5</td>\n",
       "      <td>35-39</td>\n",
       "      <td>40-49</td>\n",
       "      <td>Open</td>\n",
       "      <td>124.53</td>\n",
       "      <td>84+</td>\n",
       "      <td>...</td>\n",
       "      <td>Yes</td>\n",
       "      <td>England</td>\n",
       "      <td>0</td>\n",
       "      <td>IPF</td>\n",
       "      <td>IPF</td>\n",
       "      <td>2016-11-14</td>\n",
       "      <td>USA</td>\n",
       "      <td>0</td>\n",
       "      <td>Orlando</td>\n",
       "      <td>World Open Championships</td>\n",
       "    </tr>\n",
       "    <tr>\n",
       "      <th>3074784</th>\n",
       "      <td>Hildeborg Juvet Hugdal</td>\n",
       "      <td>F</td>\n",
       "      <td>SBD</td>\n",
       "      <td>Single-ply</td>\n",
       "      <td>32.5</td>\n",
       "      <td>24-34</td>\n",
       "      <td>24-39</td>\n",
       "      <td>Open</td>\n",
       "      <td>123.00</td>\n",
       "      <td>84+</td>\n",
       "      <td>...</td>\n",
       "      <td>Yes</td>\n",
       "      <td>Norway</td>\n",
       "      <td>0</td>\n",
       "      <td>IPF</td>\n",
       "      <td>IPF</td>\n",
       "      <td>2016-11-14</td>\n",
       "      <td>USA</td>\n",
       "      <td>0</td>\n",
       "      <td>Orlando</td>\n",
       "      <td>World Open Championships</td>\n",
       "    </tr>\n",
       "  </tbody>\n",
       "</table>\n",
       "<p>3074785 rows × 41 columns</p>\n",
       "</div>"
      ],
      "text/plain": [
       "                           Name Sex Event   Equipment   Age AgeClass  \\\n",
       "0                   Alona Vladi   F   SBD         Raw  33.0    24-34   \n",
       "1            Galina Solovyanova   F   SBD         Raw  43.0    40-44   \n",
       "2                Daniil Voronin   M   SBD         Raw  15.5    16-17   \n",
       "3                Aleksey Krasov   M   SBD         Raw  35.0    35-39   \n",
       "4        Margarita Pleschenkova   M   SBD         Raw  26.5    24-34   \n",
       "...                         ...  ..   ...         ...   ...      ...   \n",
       "3074780            Inna Orobets   F   SBD  Single-ply  45.0    45-49   \n",
       "3074781             Ágnes Szabó   F   SBD  Single-ply  27.5    24-34   \n",
       "3074782   Brenda van der Meulen   F   SBD  Single-ply  37.5    35-39   \n",
       "3074783            Kelly Phasey   F   SBD  Single-ply  39.5    35-39   \n",
       "3074784  Hildeborg Juvet Hugdal   F   SBD  Single-ply  32.5    24-34   \n",
       "\n",
       "        BirthYearClass Division  BodyweightKg WeightClassKg  ...  Tested  \\\n",
       "0                24-39        O         58.30            60  ...     Yes   \n",
       "1                40-49       M1         73.10            75  ...     Yes   \n",
       "2                14-18        T         67.40            75  ...     Yes   \n",
       "3                24-39        O         66.65            75  ...     Yes   \n",
       "4                24-39        O         72.45            75  ...     Yes   \n",
       "...                ...      ...           ...           ...  ...     ...   \n",
       "3074780          40-49     Open        109.30           84+  ...     Yes   \n",
       "3074781          24-39     Open        113.22           84+  ...     Yes   \n",
       "3074782          24-39     Open        110.79           84+  ...     Yes   \n",
       "3074783          40-49     Open        124.53           84+  ...     Yes   \n",
       "3074784          24-39     Open        123.00           84+  ...     Yes   \n",
       "\n",
       "             Country  State  Federation  ParentFederation        Date  \\\n",
       "0             Russia      0         GFP                 0  2019-05-11   \n",
       "1             Russia      0         GFP                 0  2019-05-11   \n",
       "2             Russia      0         GFP                 0  2019-05-11   \n",
       "3             Russia      0         GFP                 0  2019-05-11   \n",
       "4             Russia      0         GFP                 0  2019-05-11   \n",
       "...              ...    ...         ...               ...         ...   \n",
       "3074780      Ukraine      0         IPF               IPF  2016-11-14   \n",
       "3074781      Hungary      0         IPF               IPF  2016-11-14   \n",
       "3074782  Netherlands      0         IPF               IPF  2016-11-14   \n",
       "3074783      England      0         IPF               IPF  2016-11-14   \n",
       "3074784       Norway      0         IPF               IPF  2016-11-14   \n",
       "\n",
       "         MeetCountry  MeetState  MeetTown                  MeetName  \n",
       "0             Russia          0   Bryansk           Open Tournament  \n",
       "1             Russia          0   Bryansk           Open Tournament  \n",
       "2             Russia          0   Bryansk           Open Tournament  \n",
       "3             Russia          0   Bryansk           Open Tournament  \n",
       "4             Russia          0   Bryansk           Open Tournament  \n",
       "...              ...        ...       ...                       ...  \n",
       "3074780          USA          0   Orlando  World Open Championships  \n",
       "3074781          USA          0   Orlando  World Open Championships  \n",
       "3074782          USA          0   Orlando  World Open Championships  \n",
       "3074783          USA          0   Orlando  World Open Championships  \n",
       "3074784          USA          0   Orlando  World Open Championships  \n",
       "\n",
       "[3074785 rows x 41 columns]"
      ]
     },
     "execution_count": 9,
     "metadata": {},
     "output_type": "execute_result"
    }
   ],
   "source": [
    "# Lets fill in any N/A data with 0's as some lifters won't be doing all the lifts\n",
    "df.fillna(0)"
   ]
  },
  {
   "cell_type": "code",
   "execution_count": 10,
   "metadata": {},
   "outputs": [
    {
     "data": {
      "text/plain": [
       "Index(['Name', 'Sex', 'Event', 'Equipment', 'Age', 'AgeClass',\n",
       "       'BirthYearClass', 'Division', 'BodyweightKg', 'WeightClassKg',\n",
       "       'Squat1Kg', 'Squat2Kg', 'Squat3Kg', 'Squat4Kg', 'Best3SquatKg',\n",
       "       'Bench1Kg', 'Bench2Kg', 'Bench3Kg', 'Bench4Kg', 'Best3BenchKg',\n",
       "       'Deadlift1Kg', 'Deadlift2Kg', 'Deadlift3Kg', 'Deadlift4Kg',\n",
       "       'Best3DeadliftKg', 'TotalKg', 'Place', 'Dots', 'Wilks', 'Glossbrenner',\n",
       "       'Goodlift', 'Tested', 'Country', 'State', 'Federation',\n",
       "       'ParentFederation', 'Date', 'MeetCountry', 'MeetState', 'MeetTown',\n",
       "       'MeetName'],\n",
       "      dtype='object')"
      ]
     },
     "execution_count": 10,
     "metadata": {},
     "output_type": "execute_result"
    }
   ],
   "source": [
    "df.columns # We need to figure out which ones we want to keep and which onces we want to drop"
   ]
  },
  {
   "cell_type": "code",
   "execution_count": 11,
   "metadata": {},
   "outputs": [],
   "source": [
    "columns_to_drop = ['BirthYearClass', 'Squat1Kg', 'Squat2Kg', 'Squat3Kg', 'Squat4Kg', 'Bench1Kg', 'Bench2Kg', 'Bench3Kg', 'Bench4Kg', 'Deadlift1Kg', 'Deadlift2Kg', 'Deadlift3Kg', 'Deadlift4Kg', 'Wilks', 'Glossbrenner', 'Goodlift', 'State', 'MeetCountry', 'MeetState', 'MeetTown', 'MeetName', 'ParentFederation', 'Division']\n",
    "\n",
    "df.drop(columns=columns_to_drop, axis=1, inplace=True)"
   ]
  },
  {
   "cell_type": "code",
   "execution_count": 12,
   "metadata": {},
   "outputs": [
    {
     "data": {
      "text/plain": [
       "(3074785, 18)"
      ]
     },
     "execution_count": 12,
     "metadata": {},
     "output_type": "execute_result"
    }
   ],
   "source": [
    "df.shape"
   ]
  },
  {
   "cell_type": "code",
   "execution_count": 13,
   "metadata": {},
   "outputs": [
    {
     "data": {
      "text/plain": [
       "Index(['Name', 'Sex', 'Event', 'Equipment', 'Age', 'AgeClass', 'BodyweightKg',\n",
       "       'WeightClassKg', 'Best3SquatKg', 'Best3BenchKg', 'Best3DeadliftKg',\n",
       "       'TotalKg', 'Place', 'Dots', 'Tested', 'Country', 'Federation', 'Date'],\n",
       "      dtype='object')"
      ]
     },
     "execution_count": 13,
     "metadata": {},
     "output_type": "execute_result"
    }
   ],
   "source": [
    "df.columns"
   ]
  },
  {
   "cell_type": "code",
   "execution_count": 14,
   "metadata": {},
   "outputs": [],
   "source": [
    "# I want to rename some of the columns for readability of my databse\n",
    "df.columns = ['Name', 'Sex', 'Event', 'Equiptment', 'Age', 'Age_Class', 'Bodyweight', 'Weight_Class', 'Squat', 'Bench', 'Deadlift', 'Total', 'Place', 'Dots', 'Tested', 'Country', 'Federation', 'Date']"
   ]
  },
  {
   "cell_type": "code",
   "execution_count": 15,
   "metadata": {},
   "outputs": [
    {
     "data": {
      "text/plain": [
       "Name                  0\n",
       "Sex                   0\n",
       "Event                 0\n",
       "Equiptment            0\n",
       "Age             1074371\n",
       "Age_Class        818026\n",
       "Bodyweight        38576\n",
       "Weight_Class      41476\n",
       "Squat           1016665\n",
       "Bench            361059\n",
       "Deadlift         841872\n",
       "Total            203605\n",
       "Place                 0\n",
       "Dots             228653\n",
       "Tested           810701\n",
       "Country         1290533\n",
       "Federation            0\n",
       "Date                  0\n",
       "dtype: int64"
      ]
     },
     "execution_count": 15,
     "metadata": {},
     "output_type": "execute_result"
    }
   ],
   "source": [
    "df.isnull().sum()"
   ]
  },
  {
   "cell_type": "code",
   "execution_count": 16,
   "metadata": {},
   "outputs": [
    {
     "data": {
      "text/plain": [
       "(3074785, 18)"
      ]
     },
     "execution_count": 16,
     "metadata": {},
     "output_type": "execute_result"
    }
   ],
   "source": [
    "df.shape"
   ]
  },
  {
   "cell_type": "code",
   "execution_count": 17,
   "metadata": {},
   "outputs": [],
   "source": [
    "# Drop rows with null values in the 'Country' column\n",
    "df_cleaned = df.dropna(subset=['Country', 'Total', 'Age', 'Dots', 'Age_Class', 'Weight_Class'])"
   ]
  },
  {
   "cell_type": "code",
   "execution_count": 18,
   "metadata": {},
   "outputs": [
    {
     "data": {
      "text/plain": [
       "Name                 0\n",
       "Sex                  0\n",
       "Event                0\n",
       "Equiptment           0\n",
       "Age                  0\n",
       "Age_Class            0\n",
       "Bodyweight           0\n",
       "Weight_Class         0\n",
       "Squat           518477\n",
       "Bench           121738\n",
       "Deadlift        383528\n",
       "Total                0\n",
       "Place                0\n",
       "Dots                 0\n",
       "Tested          436098\n",
       "Country              0\n",
       "Federation           0\n",
       "Date                 0\n",
       "dtype: int64"
      ]
     },
     "execution_count": 18,
     "metadata": {},
     "output_type": "execute_result"
    }
   ],
   "source": [
    "df_cleaned.isnull().sum()"
   ]
  },
  {
   "cell_type": "code",
   "execution_count": 19,
   "metadata": {},
   "outputs": [
    {
     "data": {
      "text/plain": [
       "(1408456, 18)"
      ]
     },
     "execution_count": 19,
     "metadata": {},
     "output_type": "execute_result"
    }
   ],
   "source": [
    "df_cleaned.shape"
   ]
  },
  {
   "cell_type": "code",
   "execution_count": 20,
   "metadata": {},
   "outputs": [
    {
     "name": "stderr",
     "output_type": "stream",
     "text": [
      "/tmp/ipykernel_304877/68475003.py:1: SettingWithCopyWarning: \n",
      "A value is trying to be set on a copy of a slice from a DataFrame.\n",
      "Try using .loc[row_indexer,col_indexer] = value instead\n",
      "\n",
      "See the caveats in the documentation: https://pandas.pydata.org/pandas-docs/stable/user_guide/indexing.html#returning-a-view-versus-a-copy\n",
      "  df_cleaned[\"Tested\"] = df_cleaned[\"Tested\"].fillna(\"No\")\n",
      "/tmp/ipykernel_304877/68475003.py:2: SettingWithCopyWarning: \n",
      "A value is trying to be set on a copy of a slice from a DataFrame.\n",
      "Try using .loc[row_indexer,col_indexer] = value instead\n",
      "\n",
      "See the caveats in the documentation: https://pandas.pydata.org/pandas-docs/stable/user_guide/indexing.html#returning-a-view-versus-a-copy\n",
      "  df_cleaned[\"Squat\"] = df_cleaned[\"Squat\"].fillna(0)\n",
      "/tmp/ipykernel_304877/68475003.py:3: SettingWithCopyWarning: \n",
      "A value is trying to be set on a copy of a slice from a DataFrame.\n",
      "Try using .loc[row_indexer,col_indexer] = value instead\n",
      "\n",
      "See the caveats in the documentation: https://pandas.pydata.org/pandas-docs/stable/user_guide/indexing.html#returning-a-view-versus-a-copy\n",
      "  df_cleaned[\"Bench\"] = df_cleaned[\"Bench\"].fillna(0)\n",
      "/tmp/ipykernel_304877/68475003.py:4: SettingWithCopyWarning: \n",
      "A value is trying to be set on a copy of a slice from a DataFrame.\n",
      "Try using .loc[row_indexer,col_indexer] = value instead\n",
      "\n",
      "See the caveats in the documentation: https://pandas.pydata.org/pandas-docs/stable/user_guide/indexing.html#returning-a-view-versus-a-copy\n",
      "  df_cleaned[\"Deadlift\"] = df_cleaned[\"Deadlift\"].fillna(0)\n"
     ]
    }
   ],
   "source": [
    "df_cleaned[\"Tested\"] = df_cleaned[\"Tested\"].fillna(\"No\")\n",
    "df_cleaned[\"Squat\"] = df_cleaned[\"Squat\"].fillna(0)\n",
    "df_cleaned[\"Bench\"] = df_cleaned[\"Bench\"].fillna(0)\n",
    "df_cleaned[\"Deadlift\"] = df_cleaned[\"Deadlift\"].fillna(0)"
   ]
  },
  {
   "cell_type": "code",
   "execution_count": 21,
   "metadata": {},
   "outputs": [
    {
     "data": {
      "text/plain": [
       "Name            0\n",
       "Sex             0\n",
       "Event           0\n",
       "Equiptment      0\n",
       "Age             0\n",
       "Age_Class       0\n",
       "Bodyweight      0\n",
       "Weight_Class    0\n",
       "Squat           0\n",
       "Bench           0\n",
       "Deadlift        0\n",
       "Total           0\n",
       "Place           0\n",
       "Dots            0\n",
       "Tested          0\n",
       "Country         0\n",
       "Federation      0\n",
       "Date            0\n",
       "dtype: int64"
      ]
     },
     "execution_count": 21,
     "metadata": {},
     "output_type": "execute_result"
    }
   ],
   "source": [
    "df_cleaned.isnull().sum() # So Satifying we have 1.4 million cleaned rows of data "
   ]
  },
  {
   "cell_type": "code",
   "execution_count": 22,
   "metadata": {},
   "outputs": [
    {
     "data": {
      "text/plain": [
       "(1408456, 18)"
      ]
     },
     "execution_count": 22,
     "metadata": {},
     "output_type": "execute_result"
    }
   ],
   "source": [
    "df_cleaned.shape "
   ]
  },
  {
   "cell_type": "code",
   "execution_count": 23,
   "metadata": {},
   "outputs": [
    {
     "data": {
      "text/plain": [
       "Name             object\n",
       "Sex              object\n",
       "Event            object\n",
       "Equiptment       object\n",
       "Age             float64\n",
       "Age_Class        object\n",
       "Bodyweight      float64\n",
       "Weight_Class     object\n",
       "Squat           float64\n",
       "Bench           float64\n",
       "Deadlift        float64\n",
       "Total           float64\n",
       "Place            object\n",
       "Dots            float64\n",
       "Tested           object\n",
       "Country          object\n",
       "Federation       object\n",
       "Date             object\n",
       "dtype: object"
      ]
     },
     "execution_count": 23,
     "metadata": {},
     "output_type": "execute_result"
    }
   ],
   "source": [
    "# Ensure each column has correct datatype \n",
    "df_cleaned.dtypes # Lets convert "
   ]
  },
  {
   "cell_type": "code",
   "execution_count": 24,
   "metadata": {},
   "outputs": [
    {
     "name": "stderr",
     "output_type": "stream",
     "text": [
      "/tmp/ipykernel_304877/3772340794.py:5: SettingWithCopyWarning: \n",
      "A value is trying to be set on a copy of a slice from a DataFrame.\n",
      "Try using .loc[row_indexer,col_indexer] = value instead\n",
      "\n",
      "See the caveats in the documentation: https://pandas.pydata.org/pandas-docs/stable/user_guide/indexing.html#returning-a-view-versus-a-copy\n",
      "  df_cleaned[\"Tested\"] = df_cleaned[\"Tested\"].map(mapping).astype(bool)\n",
      "/tmp/ipykernel_304877/3772340794.py:12: SettingWithCopyWarning: \n",
      "A value is trying to be set on a copy of a slice from a DataFrame.\n",
      "Try using .loc[row_indexer,col_indexer] = value instead\n",
      "\n",
      "See the caveats in the documentation: https://pandas.pydata.org/pandas-docs/stable/user_guide/indexing.html#returning-a-view-versus-a-copy\n",
      "  df_cleaned['Place'] = numeric_rows['Place'].astype(int)\n"
     ]
    }
   ],
   "source": [
    "# Define the mapping from string to boolean\n",
    "mapping = {\"Yes\": True, \"No\": False}\n",
    "\n",
    "# Use map to apply the mapping to the column\n",
    "df_cleaned[\"Tested\"] = df_cleaned[\"Tested\"].map(mapping).astype(bool)\n",
    "\n",
    "# Step 1: Identify Non-Numeric Values\n",
    "non_numeric_rows = df_cleaned[~df_cleaned['Place'].str.isdigit()]\n",
    "\n",
    "# Step 2: Convert Numeric Values to Integers\n",
    "numeric_rows = df_cleaned[df_cleaned['Place'].str.isdigit()]\n",
    "df_cleaned['Place'] = numeric_rows['Place'].astype(int)\n",
    "\n",
    "# Step 3: Drop Rows with Non-Numeric Values\n",
    "df_cleaned = df_cleaned.drop(non_numeric_rows.index)"
   ]
  },
  {
   "cell_type": "code",
   "execution_count": 32,
   "metadata": {},
   "outputs": [],
   "source": [
    "df_cleaned['Place'] = df_cleaned['Place'].astype('Int64')\n",
    "df_cleaned['Age'] = np.floor(df_cleaned['Age'])\n",
    "df_cleaned['Age'] = df_cleaned['Age'].astype('Int64')\n",
    "df_cleaned['Date'] = pd.to_datetime(df_cleaned['Date'])"
   ]
  },
  {
   "cell_type": "code",
   "execution_count": 33,
   "metadata": {},
   "outputs": [
    {
     "data": {
      "text/plain": [
       "Name                    object\n",
       "Sex                     object\n",
       "Event                   object\n",
       "Equiptment              object\n",
       "Age                      Int64\n",
       "Age_Class               object\n",
       "Bodyweight             float64\n",
       "Weight_Class            object\n",
       "Squat                  float64\n",
       "Bench                  float64\n",
       "Deadlift               float64\n",
       "Total                  float64\n",
       "Place                    Int64\n",
       "Dots                   float64\n",
       "Tested                    bool\n",
       "Country                 object\n",
       "Federation              object\n",
       "Date            datetime64[ns]\n",
       "dtype: object"
      ]
     },
     "execution_count": 33,
     "metadata": {},
     "output_type": "execute_result"
    }
   ],
   "source": [
    "df_cleaned.dtypes"
   ]
  },
  {
   "cell_type": "code",
   "execution_count": 37,
   "metadata": {},
   "outputs": [
    {
     "data": {
      "text/plain": [
       "0   2019-05-11\n",
       "1   2019-05-11\n",
       "2   2019-05-11\n",
       "3   2019-05-11\n",
       "4   2019-05-11\n",
       "Name: Date, dtype: datetime64[ns]"
      ]
     },
     "execution_count": 37,
     "metadata": {},
     "output_type": "execute_result"
    }
   ],
   "source": [
    "df_cleaned['Date'].head()"
   ]
  },
  {
   "cell_type": "code",
   "execution_count": 38,
   "metadata": {},
   "outputs": [
    {
     "data": {
      "text/plain": [
       "True"
      ]
     },
     "execution_count": 38,
     "metadata": {},
     "output_type": "execute_result"
    }
   ],
   "source": [
    "df_cleaned['Date'][0] == df_cleaned['Date'][1]"
   ]
  },
  {
   "cell_type": "markdown",
   "metadata": {},
   "source": [
    "The data is now in a format fit for the relational database, we could further split it up but well leave it like this for now unless we need multiple tables to make things easier later"
   ]
  }
 ],
 "metadata": {
  "kernelspec": {
   "display_name": "datascience",
   "language": "python",
   "name": "python3"
  },
  "language_info": {
   "codemirror_mode": {
    "name": "ipython",
    "version": 3
   },
   "file_extension": ".py",
   "mimetype": "text/x-python",
   "name": "python",
   "nbconvert_exporter": "python",
   "pygments_lexer": "ipython3",
   "version": "3.1.undefined"
  }
 },
 "nbformat": 4,
 "nbformat_minor": 2
}
