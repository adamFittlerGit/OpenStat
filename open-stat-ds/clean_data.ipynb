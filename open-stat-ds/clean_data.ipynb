{
 "cells": [
  {
   "cell_type": "markdown",
   "metadata": {},
   "source": [
    "# Cleaning Raw Data"
   ]
  },
  {
   "cell_type": "markdown",
   "metadata": {},
   "source": [
    "This will probably be converted to a standard python file but I wanted to first do some exploratory analysis and visualisations while cleaning the data "
   ]
  },
  {
   "cell_type": "code",
   "execution_count": 1,
   "metadata": {},
   "outputs": [],
   "source": [
    "import numpy as np \n",
    "import pandas as pd\n",
    "from IPython.display import display"
   ]
  },
  {
   "cell_type": "code",
   "execution_count": 2,
   "metadata": {},
   "outputs": [
    {
     "name": "stderr",
     "output_type": "stream",
     "text": [
      "/tmp/ipykernel_289309/1332353381.py:1: DtypeWarning: Columns (33,35,38) have mixed types. Specify dtype option on import or set low_memory=False.\n",
      "  df = pd.read_csv('./raw_data/raw_data.csv')\n"
     ]
    }
   ],
   "source": [
    "df = pd.read_csv('./raw_data/raw_data.csv')"
   ]
  },
  {
   "cell_type": "code",
   "execution_count": 3,
   "metadata": {},
   "outputs": [
    {
     "name": "stdout",
     "output_type": "stream",
     "text": [
      "<class 'pandas.core.frame.DataFrame'>\n",
      "RangeIndex: 3074785 entries, 0 to 3074784\n",
      "Data columns (total 41 columns):\n",
      " #   Column            Dtype  \n",
      "---  ------            -----  \n",
      " 0   Name              object \n",
      " 1   Sex               object \n",
      " 2   Event             object \n",
      " 3   Equipment         object \n",
      " 4   Age               float64\n",
      " 5   AgeClass          object \n",
      " 6   BirthYearClass    object \n",
      " 7   Division          object \n",
      " 8   BodyweightKg      float64\n",
      " 9   WeightClassKg     object \n",
      " 10  Squat1Kg          float64\n",
      " 11  Squat2Kg          float64\n",
      " 12  Squat3Kg          float64\n",
      " 13  Squat4Kg          float64\n",
      " 14  Best3SquatKg      float64\n",
      " 15  Bench1Kg          float64\n",
      " 16  Bench2Kg          float64\n",
      " 17  Bench3Kg          float64\n",
      " 18  Bench4Kg          float64\n",
      " 19  Best3BenchKg      float64\n",
      " 20  Deadlift1Kg       float64\n",
      " 21  Deadlift2Kg       float64\n",
      " 22  Deadlift3Kg       float64\n",
      " 23  Deadlift4Kg       float64\n",
      " 24  Best3DeadliftKg   float64\n",
      " 25  TotalKg           float64\n",
      " 26  Place             object \n",
      " 27  Dots              float64\n",
      " 28  Wilks             float64\n",
      " 29  Glossbrenner      float64\n",
      " 30  Goodlift          float64\n",
      " 31  Tested            object \n",
      " 32  Country           object \n",
      " 33  State             object \n",
      " 34  Federation        object \n",
      " 35  ParentFederation  object \n",
      " 36  Date              object \n",
      " 37  MeetCountry       object \n",
      " 38  MeetState         object \n",
      " 39  MeetTown          object \n",
      " 40  MeetName          object \n",
      "dtypes: float64(22), object(19)\n",
      "memory usage: 961.8+ MB\n"
     ]
    }
   ],
   "source": [
    "df.info()"
   ]
  },
  {
   "cell_type": "code",
   "execution_count": 4,
   "metadata": {},
   "outputs": [
    {
     "data": {
      "text/html": [
       "<div>\n",
       "<style scoped>\n",
       "    .dataframe tbody tr th:only-of-type {\n",
       "        vertical-align: middle;\n",
       "    }\n",
       "\n",
       "    .dataframe tbody tr th {\n",
       "        vertical-align: top;\n",
       "    }\n",
       "\n",
       "    .dataframe thead th {\n",
       "        text-align: right;\n",
       "    }\n",
       "</style>\n",
       "<table border=\"1\" class=\"dataframe\">\n",
       "  <thead>\n",
       "    <tr style=\"text-align: right;\">\n",
       "      <th></th>\n",
       "      <th>Name</th>\n",
       "      <th>Sex</th>\n",
       "      <th>Event</th>\n",
       "      <th>Equipment</th>\n",
       "      <th>Age</th>\n",
       "      <th>AgeClass</th>\n",
       "      <th>BirthYearClass</th>\n",
       "      <th>Division</th>\n",
       "      <th>BodyweightKg</th>\n",
       "      <th>WeightClassKg</th>\n",
       "      <th>...</th>\n",
       "      <th>Tested</th>\n",
       "      <th>Country</th>\n",
       "      <th>State</th>\n",
       "      <th>Federation</th>\n",
       "      <th>ParentFederation</th>\n",
       "      <th>Date</th>\n",
       "      <th>MeetCountry</th>\n",
       "      <th>MeetState</th>\n",
       "      <th>MeetTown</th>\n",
       "      <th>MeetName</th>\n",
       "    </tr>\n",
       "  </thead>\n",
       "  <tbody>\n",
       "    <tr>\n",
       "      <th>0</th>\n",
       "      <td>Alona Vladi</td>\n",
       "      <td>F</td>\n",
       "      <td>SBD</td>\n",
       "      <td>Raw</td>\n",
       "      <td>33.0</td>\n",
       "      <td>24-34</td>\n",
       "      <td>24-39</td>\n",
       "      <td>O</td>\n",
       "      <td>58.30</td>\n",
       "      <td>60</td>\n",
       "      <td>...</td>\n",
       "      <td>Yes</td>\n",
       "      <td>Russia</td>\n",
       "      <td>NaN</td>\n",
       "      <td>GFP</td>\n",
       "      <td>NaN</td>\n",
       "      <td>2019-05-11</td>\n",
       "      <td>Russia</td>\n",
       "      <td>NaN</td>\n",
       "      <td>Bryansk</td>\n",
       "      <td>Open Tournament</td>\n",
       "    </tr>\n",
       "    <tr>\n",
       "      <th>1</th>\n",
       "      <td>Galina Solovyanova</td>\n",
       "      <td>F</td>\n",
       "      <td>SBD</td>\n",
       "      <td>Raw</td>\n",
       "      <td>43.0</td>\n",
       "      <td>40-44</td>\n",
       "      <td>40-49</td>\n",
       "      <td>M1</td>\n",
       "      <td>73.10</td>\n",
       "      <td>75</td>\n",
       "      <td>...</td>\n",
       "      <td>Yes</td>\n",
       "      <td>Russia</td>\n",
       "      <td>NaN</td>\n",
       "      <td>GFP</td>\n",
       "      <td>NaN</td>\n",
       "      <td>2019-05-11</td>\n",
       "      <td>Russia</td>\n",
       "      <td>NaN</td>\n",
       "      <td>Bryansk</td>\n",
       "      <td>Open Tournament</td>\n",
       "    </tr>\n",
       "    <tr>\n",
       "      <th>2</th>\n",
       "      <td>Daniil Voronin</td>\n",
       "      <td>M</td>\n",
       "      <td>SBD</td>\n",
       "      <td>Raw</td>\n",
       "      <td>15.5</td>\n",
       "      <td>16-17</td>\n",
       "      <td>14-18</td>\n",
       "      <td>T</td>\n",
       "      <td>67.40</td>\n",
       "      <td>75</td>\n",
       "      <td>...</td>\n",
       "      <td>Yes</td>\n",
       "      <td>Russia</td>\n",
       "      <td>NaN</td>\n",
       "      <td>GFP</td>\n",
       "      <td>NaN</td>\n",
       "      <td>2019-05-11</td>\n",
       "      <td>Russia</td>\n",
       "      <td>NaN</td>\n",
       "      <td>Bryansk</td>\n",
       "      <td>Open Tournament</td>\n",
       "    </tr>\n",
       "    <tr>\n",
       "      <th>3</th>\n",
       "      <td>Aleksey Krasov</td>\n",
       "      <td>M</td>\n",
       "      <td>SBD</td>\n",
       "      <td>Raw</td>\n",
       "      <td>35.0</td>\n",
       "      <td>35-39</td>\n",
       "      <td>24-39</td>\n",
       "      <td>O</td>\n",
       "      <td>66.65</td>\n",
       "      <td>75</td>\n",
       "      <td>...</td>\n",
       "      <td>Yes</td>\n",
       "      <td>Russia</td>\n",
       "      <td>NaN</td>\n",
       "      <td>GFP</td>\n",
       "      <td>NaN</td>\n",
       "      <td>2019-05-11</td>\n",
       "      <td>Russia</td>\n",
       "      <td>NaN</td>\n",
       "      <td>Bryansk</td>\n",
       "      <td>Open Tournament</td>\n",
       "    </tr>\n",
       "    <tr>\n",
       "      <th>4</th>\n",
       "      <td>Margarita Pleschenkova</td>\n",
       "      <td>M</td>\n",
       "      <td>SBD</td>\n",
       "      <td>Raw</td>\n",
       "      <td>26.5</td>\n",
       "      <td>24-34</td>\n",
       "      <td>24-39</td>\n",
       "      <td>O</td>\n",
       "      <td>72.45</td>\n",
       "      <td>75</td>\n",
       "      <td>...</td>\n",
       "      <td>Yes</td>\n",
       "      <td>Russia</td>\n",
       "      <td>NaN</td>\n",
       "      <td>GFP</td>\n",
       "      <td>NaN</td>\n",
       "      <td>2019-05-11</td>\n",
       "      <td>Russia</td>\n",
       "      <td>NaN</td>\n",
       "      <td>Bryansk</td>\n",
       "      <td>Open Tournament</td>\n",
       "    </tr>\n",
       "  </tbody>\n",
       "</table>\n",
       "<p>5 rows × 41 columns</p>\n",
       "</div>"
      ],
      "text/plain": [
       "                     Name Sex Event Equipment   Age AgeClass BirthYearClass  \\\n",
       "0             Alona Vladi   F   SBD       Raw  33.0    24-34          24-39   \n",
       "1      Galina Solovyanova   F   SBD       Raw  43.0    40-44          40-49   \n",
       "2          Daniil Voronin   M   SBD       Raw  15.5    16-17          14-18   \n",
       "3          Aleksey Krasov   M   SBD       Raw  35.0    35-39          24-39   \n",
       "4  Margarita Pleschenkova   M   SBD       Raw  26.5    24-34          24-39   \n",
       "\n",
       "  Division  BodyweightKg WeightClassKg  ...  Tested  Country  State  \\\n",
       "0        O         58.30            60  ...     Yes   Russia    NaN   \n",
       "1       M1         73.10            75  ...     Yes   Russia    NaN   \n",
       "2        T         67.40            75  ...     Yes   Russia    NaN   \n",
       "3        O         66.65            75  ...     Yes   Russia    NaN   \n",
       "4        O         72.45            75  ...     Yes   Russia    NaN   \n",
       "\n",
       "   Federation  ParentFederation        Date  MeetCountry  MeetState  MeetTown  \\\n",
       "0         GFP               NaN  2019-05-11       Russia        NaN   Bryansk   \n",
       "1         GFP               NaN  2019-05-11       Russia        NaN   Bryansk   \n",
       "2         GFP               NaN  2019-05-11       Russia        NaN   Bryansk   \n",
       "3         GFP               NaN  2019-05-11       Russia        NaN   Bryansk   \n",
       "4         GFP               NaN  2019-05-11       Russia        NaN   Bryansk   \n",
       "\n",
       "          MeetName  \n",
       "0  Open Tournament  \n",
       "1  Open Tournament  \n",
       "2  Open Tournament  \n",
       "3  Open Tournament  \n",
       "4  Open Tournament  \n",
       "\n",
       "[5 rows x 41 columns]"
      ]
     },
     "execution_count": 4,
     "metadata": {},
     "output_type": "execute_result"
    }
   ],
   "source": [
    "df.head()"
   ]
  },
  {
   "cell_type": "code",
   "execution_count": 5,
   "metadata": {},
   "outputs": [
    {
     "data": {
      "text/plain": [
       "<bound method NDFrame.describe of                            Name Sex Event   Equipment   Age AgeClass  \\\n",
       "0                   Alona Vladi   F   SBD         Raw  33.0    24-34   \n",
       "1            Galina Solovyanova   F   SBD         Raw  43.0    40-44   \n",
       "2                Daniil Voronin   M   SBD         Raw  15.5    16-17   \n",
       "3                Aleksey Krasov   M   SBD         Raw  35.0    35-39   \n",
       "4        Margarita Pleschenkova   M   SBD         Raw  26.5    24-34   \n",
       "...                         ...  ..   ...         ...   ...      ...   \n",
       "3074780            Inna Orobets   F   SBD  Single-ply  45.0    45-49   \n",
       "3074781             Ágnes Szabó   F   SBD  Single-ply  27.5    24-34   \n",
       "3074782   Brenda van der Meulen   F   SBD  Single-ply  37.5    35-39   \n",
       "3074783            Kelly Phasey   F   SBD  Single-ply  39.5    35-39   \n",
       "3074784  Hildeborg Juvet Hugdal   F   SBD  Single-ply  32.5    24-34   \n",
       "\n",
       "        BirthYearClass Division  BodyweightKg WeightClassKg  ...  Tested  \\\n",
       "0                24-39        O         58.30            60  ...     Yes   \n",
       "1                40-49       M1         73.10            75  ...     Yes   \n",
       "2                14-18        T         67.40            75  ...     Yes   \n",
       "3                24-39        O         66.65            75  ...     Yes   \n",
       "4                24-39        O         72.45            75  ...     Yes   \n",
       "...                ...      ...           ...           ...  ...     ...   \n",
       "3074780          40-49     Open        109.30           84+  ...     Yes   \n",
       "3074781          24-39     Open        113.22           84+  ...     Yes   \n",
       "3074782          24-39     Open        110.79           84+  ...     Yes   \n",
       "3074783          40-49     Open        124.53           84+  ...     Yes   \n",
       "3074784          24-39     Open        123.00           84+  ...     Yes   \n",
       "\n",
       "             Country  State  Federation  ParentFederation        Date  \\\n",
       "0             Russia    NaN         GFP               NaN  2019-05-11   \n",
       "1             Russia    NaN         GFP               NaN  2019-05-11   \n",
       "2             Russia    NaN         GFP               NaN  2019-05-11   \n",
       "3             Russia    NaN         GFP               NaN  2019-05-11   \n",
       "4             Russia    NaN         GFP               NaN  2019-05-11   \n",
       "...              ...    ...         ...               ...         ...   \n",
       "3074780      Ukraine    NaN         IPF               IPF  2016-11-14   \n",
       "3074781      Hungary    NaN         IPF               IPF  2016-11-14   \n",
       "3074782  Netherlands    NaN         IPF               IPF  2016-11-14   \n",
       "3074783      England    NaN         IPF               IPF  2016-11-14   \n",
       "3074784       Norway    NaN         IPF               IPF  2016-11-14   \n",
       "\n",
       "         MeetCountry  MeetState  MeetTown                  MeetName  \n",
       "0             Russia        NaN   Bryansk           Open Tournament  \n",
       "1             Russia        NaN   Bryansk           Open Tournament  \n",
       "2             Russia        NaN   Bryansk           Open Tournament  \n",
       "3             Russia        NaN   Bryansk           Open Tournament  \n",
       "4             Russia        NaN   Bryansk           Open Tournament  \n",
       "...              ...        ...       ...                       ...  \n",
       "3074780          USA        NaN   Orlando  World Open Championships  \n",
       "3074781          USA        NaN   Orlando  World Open Championships  \n",
       "3074782          USA        NaN   Orlando  World Open Championships  \n",
       "3074783          USA        NaN   Orlando  World Open Championships  \n",
       "3074784          USA        NaN   Orlando  World Open Championships  \n",
       "\n",
       "[3074785 rows x 41 columns]>"
      ]
     },
     "execution_count": 5,
     "metadata": {},
     "output_type": "execute_result"
    }
   ],
   "source": [
    "df.describe"
   ]
  },
  {
   "cell_type": "code",
   "execution_count": 6,
   "metadata": {},
   "outputs": [
    {
     "data": {
      "text/plain": [
       "Index(['Name', 'Sex', 'Event', 'Equipment', 'Age', 'AgeClass',\n",
       "       'BirthYearClass', 'Division', 'BodyweightKg', 'WeightClassKg',\n",
       "       'Squat1Kg', 'Squat2Kg', 'Squat3Kg', 'Squat4Kg', 'Best3SquatKg',\n",
       "       'Bench1Kg', 'Bench2Kg', 'Bench3Kg', 'Bench4Kg', 'Best3BenchKg',\n",
       "       'Deadlift1Kg', 'Deadlift2Kg', 'Deadlift3Kg', 'Deadlift4Kg',\n",
       "       'Best3DeadliftKg', 'TotalKg', 'Place', 'Dots', 'Wilks', 'Glossbrenner',\n",
       "       'Goodlift', 'Tested', 'Country', 'State', 'Federation',\n",
       "       'ParentFederation', 'Date', 'MeetCountry', 'MeetState', 'MeetTown',\n",
       "       'MeetName'],\n",
       "      dtype='object')"
      ]
     },
     "execution_count": 6,
     "metadata": {},
     "output_type": "execute_result"
    }
   ],
   "source": [
    "df.columns"
   ]
  },
  {
   "cell_type": "code",
   "execution_count": 7,
   "metadata": {},
   "outputs": [
    {
     "data": {
      "text/plain": [
       "Name                    0\n",
       "Sex                     0\n",
       "Event                   0\n",
       "Equipment               0\n",
       "Age               1074371\n",
       "AgeClass           818026\n",
       "BirthYearClass    1004731\n",
       "Division             1435\n",
       "BodyweightKg        38576\n",
       "WeightClassKg       41476\n",
       "dtype: int64"
      ]
     },
     "execution_count": 7,
     "metadata": {},
     "output_type": "execute_result"
    }
   ],
   "source": [
    "missing_values_count = df.isnull().sum()\n",
    "\n",
    "# look at the # of missing points in the first ten columns\n",
    "missing_values_count[0:10]"
   ]
  },
  {
   "cell_type": "code",
   "execution_count": 8,
   "metadata": {},
   "outputs": [
    {
     "name": "stdout",
     "output_type": "stream",
     "text": [
      "31.993323189719746\n"
     ]
    }
   ],
   "source": [
    "total_cells = np.product(df.shape)\n",
    "total_missing = missing_values_count.sum()\n",
    "\n",
    "# percent of data that is missing\n",
    "percent_missing = (total_missing/total_cells) * 100\n",
    "print(percent_missing)"
   ]
  },
  {
   "cell_type": "code",
   "execution_count": 9,
   "metadata": {},
   "outputs": [
    {
     "data": {
      "text/html": [
       "<div>\n",
       "<style scoped>\n",
       "    .dataframe tbody tr th:only-of-type {\n",
       "        vertical-align: middle;\n",
       "    }\n",
       "\n",
       "    .dataframe tbody tr th {\n",
       "        vertical-align: top;\n",
       "    }\n",
       "\n",
       "    .dataframe thead th {\n",
       "        text-align: right;\n",
       "    }\n",
       "</style>\n",
       "<table border=\"1\" class=\"dataframe\">\n",
       "  <thead>\n",
       "    <tr style=\"text-align: right;\">\n",
       "      <th></th>\n",
       "      <th>Name</th>\n",
       "      <th>Sex</th>\n",
       "      <th>Event</th>\n",
       "      <th>Equipment</th>\n",
       "      <th>Age</th>\n",
       "      <th>AgeClass</th>\n",
       "      <th>BirthYearClass</th>\n",
       "      <th>Division</th>\n",
       "      <th>BodyweightKg</th>\n",
       "      <th>WeightClassKg</th>\n",
       "      <th>...</th>\n",
       "      <th>Tested</th>\n",
       "      <th>Country</th>\n",
       "      <th>State</th>\n",
       "      <th>Federation</th>\n",
       "      <th>ParentFederation</th>\n",
       "      <th>Date</th>\n",
       "      <th>MeetCountry</th>\n",
       "      <th>MeetState</th>\n",
       "      <th>MeetTown</th>\n",
       "      <th>MeetName</th>\n",
       "    </tr>\n",
       "  </thead>\n",
       "  <tbody>\n",
       "    <tr>\n",
       "      <th>0</th>\n",
       "      <td>Alona Vladi</td>\n",
       "      <td>F</td>\n",
       "      <td>SBD</td>\n",
       "      <td>Raw</td>\n",
       "      <td>33.0</td>\n",
       "      <td>24-34</td>\n",
       "      <td>24-39</td>\n",
       "      <td>O</td>\n",
       "      <td>58.30</td>\n",
       "      <td>60</td>\n",
       "      <td>...</td>\n",
       "      <td>Yes</td>\n",
       "      <td>Russia</td>\n",
       "      <td>0</td>\n",
       "      <td>GFP</td>\n",
       "      <td>0</td>\n",
       "      <td>2019-05-11</td>\n",
       "      <td>Russia</td>\n",
       "      <td>0</td>\n",
       "      <td>Bryansk</td>\n",
       "      <td>Open Tournament</td>\n",
       "    </tr>\n",
       "    <tr>\n",
       "      <th>1</th>\n",
       "      <td>Galina Solovyanova</td>\n",
       "      <td>F</td>\n",
       "      <td>SBD</td>\n",
       "      <td>Raw</td>\n",
       "      <td>43.0</td>\n",
       "      <td>40-44</td>\n",
       "      <td>40-49</td>\n",
       "      <td>M1</td>\n",
       "      <td>73.10</td>\n",
       "      <td>75</td>\n",
       "      <td>...</td>\n",
       "      <td>Yes</td>\n",
       "      <td>Russia</td>\n",
       "      <td>0</td>\n",
       "      <td>GFP</td>\n",
       "      <td>0</td>\n",
       "      <td>2019-05-11</td>\n",
       "      <td>Russia</td>\n",
       "      <td>0</td>\n",
       "      <td>Bryansk</td>\n",
       "      <td>Open Tournament</td>\n",
       "    </tr>\n",
       "    <tr>\n",
       "      <th>2</th>\n",
       "      <td>Daniil Voronin</td>\n",
       "      <td>M</td>\n",
       "      <td>SBD</td>\n",
       "      <td>Raw</td>\n",
       "      <td>15.5</td>\n",
       "      <td>16-17</td>\n",
       "      <td>14-18</td>\n",
       "      <td>T</td>\n",
       "      <td>67.40</td>\n",
       "      <td>75</td>\n",
       "      <td>...</td>\n",
       "      <td>Yes</td>\n",
       "      <td>Russia</td>\n",
       "      <td>0</td>\n",
       "      <td>GFP</td>\n",
       "      <td>0</td>\n",
       "      <td>2019-05-11</td>\n",
       "      <td>Russia</td>\n",
       "      <td>0</td>\n",
       "      <td>Bryansk</td>\n",
       "      <td>Open Tournament</td>\n",
       "    </tr>\n",
       "    <tr>\n",
       "      <th>3</th>\n",
       "      <td>Aleksey Krasov</td>\n",
       "      <td>M</td>\n",
       "      <td>SBD</td>\n",
       "      <td>Raw</td>\n",
       "      <td>35.0</td>\n",
       "      <td>35-39</td>\n",
       "      <td>24-39</td>\n",
       "      <td>O</td>\n",
       "      <td>66.65</td>\n",
       "      <td>75</td>\n",
       "      <td>...</td>\n",
       "      <td>Yes</td>\n",
       "      <td>Russia</td>\n",
       "      <td>0</td>\n",
       "      <td>GFP</td>\n",
       "      <td>0</td>\n",
       "      <td>2019-05-11</td>\n",
       "      <td>Russia</td>\n",
       "      <td>0</td>\n",
       "      <td>Bryansk</td>\n",
       "      <td>Open Tournament</td>\n",
       "    </tr>\n",
       "    <tr>\n",
       "      <th>4</th>\n",
       "      <td>Margarita Pleschenkova</td>\n",
       "      <td>M</td>\n",
       "      <td>SBD</td>\n",
       "      <td>Raw</td>\n",
       "      <td>26.5</td>\n",
       "      <td>24-34</td>\n",
       "      <td>24-39</td>\n",
       "      <td>O</td>\n",
       "      <td>72.45</td>\n",
       "      <td>75</td>\n",
       "      <td>...</td>\n",
       "      <td>Yes</td>\n",
       "      <td>Russia</td>\n",
       "      <td>0</td>\n",
       "      <td>GFP</td>\n",
       "      <td>0</td>\n",
       "      <td>2019-05-11</td>\n",
       "      <td>Russia</td>\n",
       "      <td>0</td>\n",
       "      <td>Bryansk</td>\n",
       "      <td>Open Tournament</td>\n",
       "    </tr>\n",
       "    <tr>\n",
       "      <th>...</th>\n",
       "      <td>...</td>\n",
       "      <td>...</td>\n",
       "      <td>...</td>\n",
       "      <td>...</td>\n",
       "      <td>...</td>\n",
       "      <td>...</td>\n",
       "      <td>...</td>\n",
       "      <td>...</td>\n",
       "      <td>...</td>\n",
       "      <td>...</td>\n",
       "      <td>...</td>\n",
       "      <td>...</td>\n",
       "      <td>...</td>\n",
       "      <td>...</td>\n",
       "      <td>...</td>\n",
       "      <td>...</td>\n",
       "      <td>...</td>\n",
       "      <td>...</td>\n",
       "      <td>...</td>\n",
       "      <td>...</td>\n",
       "      <td>...</td>\n",
       "    </tr>\n",
       "    <tr>\n",
       "      <th>3074780</th>\n",
       "      <td>Inna Orobets</td>\n",
       "      <td>F</td>\n",
       "      <td>SBD</td>\n",
       "      <td>Single-ply</td>\n",
       "      <td>45.0</td>\n",
       "      <td>45-49</td>\n",
       "      <td>40-49</td>\n",
       "      <td>Open</td>\n",
       "      <td>109.30</td>\n",
       "      <td>84+</td>\n",
       "      <td>...</td>\n",
       "      <td>Yes</td>\n",
       "      <td>Ukraine</td>\n",
       "      <td>0</td>\n",
       "      <td>IPF</td>\n",
       "      <td>IPF</td>\n",
       "      <td>2016-11-14</td>\n",
       "      <td>USA</td>\n",
       "      <td>0</td>\n",
       "      <td>Orlando</td>\n",
       "      <td>World Open Championships</td>\n",
       "    </tr>\n",
       "    <tr>\n",
       "      <th>3074781</th>\n",
       "      <td>Ágnes Szabó</td>\n",
       "      <td>F</td>\n",
       "      <td>SBD</td>\n",
       "      <td>Single-ply</td>\n",
       "      <td>27.5</td>\n",
       "      <td>24-34</td>\n",
       "      <td>24-39</td>\n",
       "      <td>Open</td>\n",
       "      <td>113.22</td>\n",
       "      <td>84+</td>\n",
       "      <td>...</td>\n",
       "      <td>Yes</td>\n",
       "      <td>Hungary</td>\n",
       "      <td>0</td>\n",
       "      <td>IPF</td>\n",
       "      <td>IPF</td>\n",
       "      <td>2016-11-14</td>\n",
       "      <td>USA</td>\n",
       "      <td>0</td>\n",
       "      <td>Orlando</td>\n",
       "      <td>World Open Championships</td>\n",
       "    </tr>\n",
       "    <tr>\n",
       "      <th>3074782</th>\n",
       "      <td>Brenda van der Meulen</td>\n",
       "      <td>F</td>\n",
       "      <td>SBD</td>\n",
       "      <td>Single-ply</td>\n",
       "      <td>37.5</td>\n",
       "      <td>35-39</td>\n",
       "      <td>24-39</td>\n",
       "      <td>Open</td>\n",
       "      <td>110.79</td>\n",
       "      <td>84+</td>\n",
       "      <td>...</td>\n",
       "      <td>Yes</td>\n",
       "      <td>Netherlands</td>\n",
       "      <td>0</td>\n",
       "      <td>IPF</td>\n",
       "      <td>IPF</td>\n",
       "      <td>2016-11-14</td>\n",
       "      <td>USA</td>\n",
       "      <td>0</td>\n",
       "      <td>Orlando</td>\n",
       "      <td>World Open Championships</td>\n",
       "    </tr>\n",
       "    <tr>\n",
       "      <th>3074783</th>\n",
       "      <td>Kelly Phasey</td>\n",
       "      <td>F</td>\n",
       "      <td>SBD</td>\n",
       "      <td>Single-ply</td>\n",
       "      <td>39.5</td>\n",
       "      <td>35-39</td>\n",
       "      <td>40-49</td>\n",
       "      <td>Open</td>\n",
       "      <td>124.53</td>\n",
       "      <td>84+</td>\n",
       "      <td>...</td>\n",
       "      <td>Yes</td>\n",
       "      <td>England</td>\n",
       "      <td>0</td>\n",
       "      <td>IPF</td>\n",
       "      <td>IPF</td>\n",
       "      <td>2016-11-14</td>\n",
       "      <td>USA</td>\n",
       "      <td>0</td>\n",
       "      <td>Orlando</td>\n",
       "      <td>World Open Championships</td>\n",
       "    </tr>\n",
       "    <tr>\n",
       "      <th>3074784</th>\n",
       "      <td>Hildeborg Juvet Hugdal</td>\n",
       "      <td>F</td>\n",
       "      <td>SBD</td>\n",
       "      <td>Single-ply</td>\n",
       "      <td>32.5</td>\n",
       "      <td>24-34</td>\n",
       "      <td>24-39</td>\n",
       "      <td>Open</td>\n",
       "      <td>123.00</td>\n",
       "      <td>84+</td>\n",
       "      <td>...</td>\n",
       "      <td>Yes</td>\n",
       "      <td>Norway</td>\n",
       "      <td>0</td>\n",
       "      <td>IPF</td>\n",
       "      <td>IPF</td>\n",
       "      <td>2016-11-14</td>\n",
       "      <td>USA</td>\n",
       "      <td>0</td>\n",
       "      <td>Orlando</td>\n",
       "      <td>World Open Championships</td>\n",
       "    </tr>\n",
       "  </tbody>\n",
       "</table>\n",
       "<p>3074785 rows × 41 columns</p>\n",
       "</div>"
      ],
      "text/plain": [
       "                           Name Sex Event   Equipment   Age AgeClass  \\\n",
       "0                   Alona Vladi   F   SBD         Raw  33.0    24-34   \n",
       "1            Galina Solovyanova   F   SBD         Raw  43.0    40-44   \n",
       "2                Daniil Voronin   M   SBD         Raw  15.5    16-17   \n",
       "3                Aleksey Krasov   M   SBD         Raw  35.0    35-39   \n",
       "4        Margarita Pleschenkova   M   SBD         Raw  26.5    24-34   \n",
       "...                         ...  ..   ...         ...   ...      ...   \n",
       "3074780            Inna Orobets   F   SBD  Single-ply  45.0    45-49   \n",
       "3074781             Ágnes Szabó   F   SBD  Single-ply  27.5    24-34   \n",
       "3074782   Brenda van der Meulen   F   SBD  Single-ply  37.5    35-39   \n",
       "3074783            Kelly Phasey   F   SBD  Single-ply  39.5    35-39   \n",
       "3074784  Hildeborg Juvet Hugdal   F   SBD  Single-ply  32.5    24-34   \n",
       "\n",
       "        BirthYearClass Division  BodyweightKg WeightClassKg  ...  Tested  \\\n",
       "0                24-39        O         58.30            60  ...     Yes   \n",
       "1                40-49       M1         73.10            75  ...     Yes   \n",
       "2                14-18        T         67.40            75  ...     Yes   \n",
       "3                24-39        O         66.65            75  ...     Yes   \n",
       "4                24-39        O         72.45            75  ...     Yes   \n",
       "...                ...      ...           ...           ...  ...     ...   \n",
       "3074780          40-49     Open        109.30           84+  ...     Yes   \n",
       "3074781          24-39     Open        113.22           84+  ...     Yes   \n",
       "3074782          24-39     Open        110.79           84+  ...     Yes   \n",
       "3074783          40-49     Open        124.53           84+  ...     Yes   \n",
       "3074784          24-39     Open        123.00           84+  ...     Yes   \n",
       "\n",
       "             Country  State  Federation  ParentFederation        Date  \\\n",
       "0             Russia      0         GFP                 0  2019-05-11   \n",
       "1             Russia      0         GFP                 0  2019-05-11   \n",
       "2             Russia      0         GFP                 0  2019-05-11   \n",
       "3             Russia      0         GFP                 0  2019-05-11   \n",
       "4             Russia      0         GFP                 0  2019-05-11   \n",
       "...              ...    ...         ...               ...         ...   \n",
       "3074780      Ukraine      0         IPF               IPF  2016-11-14   \n",
       "3074781      Hungary      0         IPF               IPF  2016-11-14   \n",
       "3074782  Netherlands      0         IPF               IPF  2016-11-14   \n",
       "3074783      England      0         IPF               IPF  2016-11-14   \n",
       "3074784       Norway      0         IPF               IPF  2016-11-14   \n",
       "\n",
       "         MeetCountry  MeetState  MeetTown                  MeetName  \n",
       "0             Russia          0   Bryansk           Open Tournament  \n",
       "1             Russia          0   Bryansk           Open Tournament  \n",
       "2             Russia          0   Bryansk           Open Tournament  \n",
       "3             Russia          0   Bryansk           Open Tournament  \n",
       "4             Russia          0   Bryansk           Open Tournament  \n",
       "...              ...        ...       ...                       ...  \n",
       "3074780          USA          0   Orlando  World Open Championships  \n",
       "3074781          USA          0   Orlando  World Open Championships  \n",
       "3074782          USA          0   Orlando  World Open Championships  \n",
       "3074783          USA          0   Orlando  World Open Championships  \n",
       "3074784          USA          0   Orlando  World Open Championships  \n",
       "\n",
       "[3074785 rows x 41 columns]"
      ]
     },
     "execution_count": 9,
     "metadata": {},
     "output_type": "execute_result"
    }
   ],
   "source": [
    "# Lets fill in any N/A data with 0's as some lifters won't be doing all the lifts\n",
    "df.fillna(0)"
   ]
  },
  {
   "cell_type": "code",
   "execution_count": 10,
   "metadata": {},
   "outputs": [
    {
     "data": {
      "text/plain": [
       "Index(['Name', 'Sex', 'Event', 'Equipment', 'Age', 'AgeClass',\n",
       "       'BirthYearClass', 'Division', 'BodyweightKg', 'WeightClassKg',\n",
       "       'Squat1Kg', 'Squat2Kg', 'Squat3Kg', 'Squat4Kg', 'Best3SquatKg',\n",
       "       'Bench1Kg', 'Bench2Kg', 'Bench3Kg', 'Bench4Kg', 'Best3BenchKg',\n",
       "       'Deadlift1Kg', 'Deadlift2Kg', 'Deadlift3Kg', 'Deadlift4Kg',\n",
       "       'Best3DeadliftKg', 'TotalKg', 'Place', 'Dots', 'Wilks', 'Glossbrenner',\n",
       "       'Goodlift', 'Tested', 'Country', 'State', 'Federation',\n",
       "       'ParentFederation', 'Date', 'MeetCountry', 'MeetState', 'MeetTown',\n",
       "       'MeetName'],\n",
       "      dtype='object')"
      ]
     },
     "execution_count": 10,
     "metadata": {},
     "output_type": "execute_result"
    }
   ],
   "source": [
    "df.columns # We need to figure out which ones we want to keep and which onces we want to drop"
   ]
  },
  {
   "cell_type": "code",
   "execution_count": 11,
   "metadata": {},
   "outputs": [],
   "source": [
    "columns_to_drop = ['BirthYearClass', 'Squat1Kg', 'Squat2Kg', 'Squat3Kg', 'Squat4Kg', 'Bench1Kg', 'Bench2Kg', 'Bench3Kg', 'Bench4Kg', 'Deadlift1Kg', 'Deadlift2Kg', 'Deadlift3Kg', 'Deadlift4Kg', 'Wilks', 'Glossbrenner', 'Goodlift', 'State', 'MeetCountry', 'MeetState', 'MeetTown', 'MeetName', 'ParentFederation', 'Division']\n",
    "\n",
    "df.drop(columns=columns_to_drop, axis=1, inplace=True)"
   ]
  },
  {
   "cell_type": "code",
   "execution_count": 12,
   "metadata": {},
   "outputs": [
    {
     "data": {
      "text/plain": [
       "(3074785, 18)"
      ]
     },
     "execution_count": 12,
     "metadata": {},
     "output_type": "execute_result"
    }
   ],
   "source": [
    "df.shape"
   ]
  },
  {
   "cell_type": "code",
   "execution_count": 13,
   "metadata": {},
   "outputs": [
    {
     "data": {
      "text/plain": [
       "Index(['Name', 'Sex', 'Event', 'Equipment', 'Age', 'AgeClass', 'BodyweightKg',\n",
       "       'WeightClassKg', 'Best3SquatKg', 'Best3BenchKg', 'Best3DeadliftKg',\n",
       "       'TotalKg', 'Place', 'Dots', 'Tested', 'Country', 'Federation', 'Date'],\n",
       "      dtype='object')"
      ]
     },
     "execution_count": 13,
     "metadata": {},
     "output_type": "execute_result"
    }
   ],
   "source": [
    "df.columns"
   ]
  },
  {
   "cell_type": "code",
   "execution_count": 14,
   "metadata": {},
   "outputs": [],
   "source": [
    "# I want to rename some of the columns for readability of my databse\n",
    "df.columns = ['Name', 'Sex', 'Event', 'Equiptment', 'Age', 'Age_Class', 'Bodyweight', 'Weight_Class', 'Squat', 'Bench', 'Deadlift', 'Total', 'Place', 'Dots', 'Tested', 'Country', 'Federation', 'Date']"
   ]
  },
  {
   "cell_type": "code",
   "execution_count": 15,
   "metadata": {},
   "outputs": [
    {
     "data": {
      "text/plain": [
       "Name                  0\n",
       "Sex                   0\n",
       "Event                 0\n",
       "Equiptment            0\n",
       "Age             1074371\n",
       "Age_Class        818026\n",
       "Bodyweight        38576\n",
       "Weight_Class      41476\n",
       "Squat           1016665\n",
       "Bench            361059\n",
       "Deadlift         841872\n",
       "Total            203605\n",
       "Place                 0\n",
       "Dots             228653\n",
       "Tested           810701\n",
       "Country         1290533\n",
       "Federation            0\n",
       "Date                  0\n",
       "dtype: int64"
      ]
     },
     "execution_count": 15,
     "metadata": {},
     "output_type": "execute_result"
    }
   ],
   "source": [
    "df.isnull().sum()"
   ]
  },
  {
   "cell_type": "code",
   "execution_count": 16,
   "metadata": {},
   "outputs": [
    {
     "data": {
      "text/plain": [
       "(3074785, 18)"
      ]
     },
     "execution_count": 16,
     "metadata": {},
     "output_type": "execute_result"
    }
   ],
   "source": [
    "df.shape"
   ]
  },
  {
   "cell_type": "code",
   "execution_count": 17,
   "metadata": {},
   "outputs": [],
   "source": [
    "# Drop rows with null values in the 'Country' column\n",
    "df_cleaned = df.dropna(subset=['Country', 'Total', 'Age', 'Dots', 'Age_Class', 'Weight_Class'])"
   ]
  },
  {
   "cell_type": "code",
   "execution_count": 18,
   "metadata": {},
   "outputs": [
    {
     "data": {
      "text/plain": [
       "Name                 0\n",
       "Sex                  0\n",
       "Event                0\n",
       "Equiptment           0\n",
       "Age                  0\n",
       "Age_Class            0\n",
       "Bodyweight           0\n",
       "Weight_Class         0\n",
       "Squat           518477\n",
       "Bench           121738\n",
       "Deadlift        383528\n",
       "Total                0\n",
       "Place                0\n",
       "Dots                 0\n",
       "Tested          436098\n",
       "Country              0\n",
       "Federation           0\n",
       "Date                 0\n",
       "dtype: int64"
      ]
     },
     "execution_count": 18,
     "metadata": {},
     "output_type": "execute_result"
    }
   ],
   "source": [
    "df_cleaned.isnull().sum()"
   ]
  },
  {
   "cell_type": "code",
   "execution_count": 19,
   "metadata": {},
   "outputs": [
    {
     "data": {
      "text/plain": [
       "(1408456, 18)"
      ]
     },
     "execution_count": 19,
     "metadata": {},
     "output_type": "execute_result"
    }
   ],
   "source": [
    "df_cleaned.shape"
   ]
  },
  {
   "cell_type": "code",
   "execution_count": 20,
   "metadata": {},
   "outputs": [
    {
     "name": "stderr",
     "output_type": "stream",
     "text": [
      "/tmp/ipykernel_289309/68475003.py:1: SettingWithCopyWarning: \n",
      "A value is trying to be set on a copy of a slice from a DataFrame.\n",
      "Try using .loc[row_indexer,col_indexer] = value instead\n",
      "\n",
      "See the caveats in the documentation: https://pandas.pydata.org/pandas-docs/stable/user_guide/indexing.html#returning-a-view-versus-a-copy\n",
      "  df_cleaned[\"Tested\"] = df_cleaned[\"Tested\"].fillna(\"No\")\n",
      "/tmp/ipykernel_289309/68475003.py:2: SettingWithCopyWarning: \n",
      "A value is trying to be set on a copy of a slice from a DataFrame.\n",
      "Try using .loc[row_indexer,col_indexer] = value instead\n",
      "\n",
      "See the caveats in the documentation: https://pandas.pydata.org/pandas-docs/stable/user_guide/indexing.html#returning-a-view-versus-a-copy\n",
      "  df_cleaned[\"Squat\"] = df_cleaned[\"Squat\"].fillna(0)\n",
      "/tmp/ipykernel_289309/68475003.py:3: SettingWithCopyWarning: \n",
      "A value is trying to be set on a copy of a slice from a DataFrame.\n",
      "Try using .loc[row_indexer,col_indexer] = value instead\n",
      "\n",
      "See the caveats in the documentation: https://pandas.pydata.org/pandas-docs/stable/user_guide/indexing.html#returning-a-view-versus-a-copy\n",
      "  df_cleaned[\"Bench\"] = df_cleaned[\"Bench\"].fillna(0)\n",
      "/tmp/ipykernel_289309/68475003.py:4: SettingWithCopyWarning: \n",
      "A value is trying to be set on a copy of a slice from a DataFrame.\n",
      "Try using .loc[row_indexer,col_indexer] = value instead\n",
      "\n",
      "See the caveats in the documentation: https://pandas.pydata.org/pandas-docs/stable/user_guide/indexing.html#returning-a-view-versus-a-copy\n",
      "  df_cleaned[\"Deadlift\"] = df_cleaned[\"Deadlift\"].fillna(0)\n"
     ]
    }
   ],
   "source": [
    "df_cleaned[\"Tested\"] = df_cleaned[\"Tested\"].fillna(\"No\")\n",
    "df_cleaned[\"Squat\"] = df_cleaned[\"Squat\"].fillna(0)\n",
    "df_cleaned[\"Bench\"] = df_cleaned[\"Bench\"].fillna(0)\n",
    "df_cleaned[\"Deadlift\"] = df_cleaned[\"Deadlift\"].fillna(0)"
   ]
  },
  {
   "cell_type": "code",
   "execution_count": 21,
   "metadata": {},
   "outputs": [
    {
     "data": {
      "text/plain": [
       "Name            0\n",
       "Sex             0\n",
       "Event           0\n",
       "Equiptment      0\n",
       "Age             0\n",
       "Age_Class       0\n",
       "Bodyweight      0\n",
       "Weight_Class    0\n",
       "Squat           0\n",
       "Bench           0\n",
       "Deadlift        0\n",
       "Total           0\n",
       "Place           0\n",
       "Dots            0\n",
       "Tested          0\n",
       "Country         0\n",
       "Federation      0\n",
       "Date            0\n",
       "dtype: int64"
      ]
     },
     "execution_count": 21,
     "metadata": {},
     "output_type": "execute_result"
    }
   ],
   "source": [
    "df_cleaned.isnull().sum() # So Satifying we have 1.4 million cleaned rows of data "
   ]
  },
  {
   "cell_type": "code",
   "execution_count": 22,
   "metadata": {},
   "outputs": [
    {
     "data": {
      "text/plain": [
       "(1408456, 18)"
      ]
     },
     "execution_count": 22,
     "metadata": {},
     "output_type": "execute_result"
    }
   ],
   "source": [
    "df_cleaned.shape "
   ]
  },
  {
   "cell_type": "code",
   "execution_count": 23,
   "metadata": {},
   "outputs": [
    {
     "data": {
      "text/plain": [
       "Name             object\n",
       "Sex              object\n",
       "Event            object\n",
       "Equiptment       object\n",
       "Age             float64\n",
       "Age_Class        object\n",
       "Bodyweight      float64\n",
       "Weight_Class     object\n",
       "Squat           float64\n",
       "Bench           float64\n",
       "Deadlift        float64\n",
       "Total           float64\n",
       "Place            object\n",
       "Dots            float64\n",
       "Tested           object\n",
       "Country          object\n",
       "Federation       object\n",
       "Date             object\n",
       "dtype: object"
      ]
     },
     "execution_count": 23,
     "metadata": {},
     "output_type": "execute_result"
    }
   ],
   "source": [
    "# Ensure each column has correct datatype \n",
    "df_cleaned.dtypes # Lets convert "
   ]
  },
  {
   "cell_type": "code",
   "execution_count": 24,
   "metadata": {},
   "outputs": [
    {
     "name": "stderr",
     "output_type": "stream",
     "text": [
      "/tmp/ipykernel_289309/2301464592.py:5: SettingWithCopyWarning: \n",
      "A value is trying to be set on a copy of a slice from a DataFrame.\n",
      "Try using .loc[row_indexer,col_indexer] = value instead\n",
      "\n",
      "See the caveats in the documentation: https://pandas.pydata.org/pandas-docs/stable/user_guide/indexing.html#returning-a-view-versus-a-copy\n",
      "  df_cleaned[\"Tested\"] = df_cleaned[\"Tested\"].map(mapping)\n"
     ]
    },
    {
     "ename": "ValueError",
     "evalue": "invalid literal for int() with base 10: 'G'",
     "output_type": "error",
     "traceback": [
      "\u001b[0;31m---------------------------------------------------------------------------\u001b[0m",
      "\u001b[0;31mValueError\u001b[0m                                Traceback (most recent call last)",
      "Cell \u001b[0;32mIn[24], line 10\u001b[0m\n\u001b[1;32m      5\u001b[0m df_cleaned[\u001b[38;5;124m\"\u001b[39m\u001b[38;5;124mTested\u001b[39m\u001b[38;5;124m\"\u001b[39m] \u001b[38;5;241m=\u001b[39m df_cleaned[\u001b[38;5;124m\"\u001b[39m\u001b[38;5;124mTested\u001b[39m\u001b[38;5;124m\"\u001b[39m]\u001b[38;5;241m.\u001b[39mmap(mapping)\n\u001b[1;32m      7\u001b[0m mapping \u001b[38;5;241m=\u001b[39m {\u001b[38;5;124m\"\u001b[39m\u001b[38;5;124mDQ\u001b[39m\u001b[38;5;124m\"\u001b[39m: \u001b[38;5;241m-\u001b[39m\u001b[38;5;241m1\u001b[39m}\n\u001b[0;32m---> 10\u001b[0m df_cleaned[\u001b[38;5;124m\"\u001b[39m\u001b[38;5;124mPlace\u001b[39m\u001b[38;5;124m\"\u001b[39m] \u001b[38;5;241m=\u001b[39m \u001b[43mdf_cleaned\u001b[49m\u001b[43m[\u001b[49m\u001b[38;5;124;43m\"\u001b[39;49m\u001b[38;5;124;43mPlace\u001b[39;49m\u001b[38;5;124;43m\"\u001b[39;49m\u001b[43m]\u001b[49m\u001b[38;5;241;43m.\u001b[39;49m\u001b[43mmap\u001b[49m\u001b[43m(\u001b[49m\u001b[43mmapping\u001b[49m\u001b[43m)\u001b[49m\u001b[38;5;241;43m.\u001b[39;49m\u001b[43mfillna\u001b[49m\u001b[43m(\u001b[49m\u001b[43mdf_cleaned\u001b[49m\u001b[43m[\u001b[49m\u001b[38;5;124;43m\"\u001b[39;49m\u001b[38;5;124;43mPlace\u001b[39;49m\u001b[38;5;124;43m\"\u001b[39;49m\u001b[43m]\u001b[49m\u001b[43m)\u001b[49m\u001b[38;5;241;43m.\u001b[39;49m\u001b[43mastype\u001b[49m\u001b[43m(\u001b[49m\u001b[38;5;28;43mint\u001b[39;49m\u001b[43m)\u001b[49m\n",
      "File \u001b[0;32m~/miniconda3/envs/datascience/lib/python3.12/site-packages/pandas/core/generic.py:6534\u001b[0m, in \u001b[0;36mNDFrame.astype\u001b[0;34m(self, dtype, copy, errors)\u001b[0m\n\u001b[1;32m   6530\u001b[0m     results \u001b[38;5;241m=\u001b[39m [ser\u001b[38;5;241m.\u001b[39mastype(dtype, copy\u001b[38;5;241m=\u001b[39mcopy) \u001b[38;5;28;01mfor\u001b[39;00m _, ser \u001b[38;5;129;01min\u001b[39;00m \u001b[38;5;28mself\u001b[39m\u001b[38;5;241m.\u001b[39mitems()]\n\u001b[1;32m   6532\u001b[0m \u001b[38;5;28;01melse\u001b[39;00m:\n\u001b[1;32m   6533\u001b[0m     \u001b[38;5;66;03m# else, only a single dtype is given\u001b[39;00m\n\u001b[0;32m-> 6534\u001b[0m     new_data \u001b[38;5;241m=\u001b[39m \u001b[38;5;28;43mself\u001b[39;49m\u001b[38;5;241;43m.\u001b[39;49m\u001b[43m_mgr\u001b[49m\u001b[38;5;241;43m.\u001b[39;49m\u001b[43mastype\u001b[49m\u001b[43m(\u001b[49m\u001b[43mdtype\u001b[49m\u001b[38;5;241;43m=\u001b[39;49m\u001b[43mdtype\u001b[49m\u001b[43m,\u001b[49m\u001b[43m \u001b[49m\u001b[43mcopy\u001b[49m\u001b[38;5;241;43m=\u001b[39;49m\u001b[43mcopy\u001b[49m\u001b[43m,\u001b[49m\u001b[43m \u001b[49m\u001b[43merrors\u001b[49m\u001b[38;5;241;43m=\u001b[39;49m\u001b[43merrors\u001b[49m\u001b[43m)\u001b[49m\n\u001b[1;32m   6535\u001b[0m     res \u001b[38;5;241m=\u001b[39m \u001b[38;5;28mself\u001b[39m\u001b[38;5;241m.\u001b[39m_constructor_from_mgr(new_data, axes\u001b[38;5;241m=\u001b[39mnew_data\u001b[38;5;241m.\u001b[39maxes)\n\u001b[1;32m   6536\u001b[0m     \u001b[38;5;28;01mreturn\u001b[39;00m res\u001b[38;5;241m.\u001b[39m__finalize__(\u001b[38;5;28mself\u001b[39m, method\u001b[38;5;241m=\u001b[39m\u001b[38;5;124m\"\u001b[39m\u001b[38;5;124mastype\u001b[39m\u001b[38;5;124m\"\u001b[39m)\n",
      "File \u001b[0;32m~/miniconda3/envs/datascience/lib/python3.12/site-packages/pandas/core/internals/managers.py:414\u001b[0m, in \u001b[0;36mBaseBlockManager.astype\u001b[0;34m(self, dtype, copy, errors)\u001b[0m\n\u001b[1;32m    411\u001b[0m \u001b[38;5;28;01melif\u001b[39;00m using_copy_on_write():\n\u001b[1;32m    412\u001b[0m     copy \u001b[38;5;241m=\u001b[39m \u001b[38;5;28;01mFalse\u001b[39;00m\n\u001b[0;32m--> 414\u001b[0m \u001b[38;5;28;01mreturn\u001b[39;00m \u001b[38;5;28;43mself\u001b[39;49m\u001b[38;5;241;43m.\u001b[39;49m\u001b[43mapply\u001b[49m\u001b[43m(\u001b[49m\n\u001b[1;32m    415\u001b[0m \u001b[43m    \u001b[49m\u001b[38;5;124;43m\"\u001b[39;49m\u001b[38;5;124;43mastype\u001b[39;49m\u001b[38;5;124;43m\"\u001b[39;49m\u001b[43m,\u001b[49m\n\u001b[1;32m    416\u001b[0m \u001b[43m    \u001b[49m\u001b[43mdtype\u001b[49m\u001b[38;5;241;43m=\u001b[39;49m\u001b[43mdtype\u001b[49m\u001b[43m,\u001b[49m\n\u001b[1;32m    417\u001b[0m \u001b[43m    \u001b[49m\u001b[43mcopy\u001b[49m\u001b[38;5;241;43m=\u001b[39;49m\u001b[43mcopy\u001b[49m\u001b[43m,\u001b[49m\n\u001b[1;32m    418\u001b[0m \u001b[43m    \u001b[49m\u001b[43merrors\u001b[49m\u001b[38;5;241;43m=\u001b[39;49m\u001b[43merrors\u001b[49m\u001b[43m,\u001b[49m\n\u001b[1;32m    419\u001b[0m \u001b[43m    \u001b[49m\u001b[43musing_cow\u001b[49m\u001b[38;5;241;43m=\u001b[39;49m\u001b[43musing_copy_on_write\u001b[49m\u001b[43m(\u001b[49m\u001b[43m)\u001b[49m\u001b[43m,\u001b[49m\n\u001b[1;32m    420\u001b[0m \u001b[43m\u001b[49m\u001b[43m)\u001b[49m\n",
      "File \u001b[0;32m~/miniconda3/envs/datascience/lib/python3.12/site-packages/pandas/core/internals/managers.py:354\u001b[0m, in \u001b[0;36mBaseBlockManager.apply\u001b[0;34m(self, f, align_keys, **kwargs)\u001b[0m\n\u001b[1;32m    352\u001b[0m         applied \u001b[38;5;241m=\u001b[39m b\u001b[38;5;241m.\u001b[39mapply(f, \u001b[38;5;241m*\u001b[39m\u001b[38;5;241m*\u001b[39mkwargs)\n\u001b[1;32m    353\u001b[0m     \u001b[38;5;28;01melse\u001b[39;00m:\n\u001b[0;32m--> 354\u001b[0m         applied \u001b[38;5;241m=\u001b[39m \u001b[38;5;28;43mgetattr\u001b[39;49m\u001b[43m(\u001b[49m\u001b[43mb\u001b[49m\u001b[43m,\u001b[49m\u001b[43m \u001b[49m\u001b[43mf\u001b[49m\u001b[43m)\u001b[49m\u001b[43m(\u001b[49m\u001b[38;5;241;43m*\u001b[39;49m\u001b[38;5;241;43m*\u001b[39;49m\u001b[43mkwargs\u001b[49m\u001b[43m)\u001b[49m\n\u001b[1;32m    355\u001b[0m     result_blocks \u001b[38;5;241m=\u001b[39m extend_blocks(applied, result_blocks)\n\u001b[1;32m    357\u001b[0m out \u001b[38;5;241m=\u001b[39m \u001b[38;5;28mtype\u001b[39m(\u001b[38;5;28mself\u001b[39m)\u001b[38;5;241m.\u001b[39mfrom_blocks(result_blocks, \u001b[38;5;28mself\u001b[39m\u001b[38;5;241m.\u001b[39maxes)\n",
      "File \u001b[0;32m~/miniconda3/envs/datascience/lib/python3.12/site-packages/pandas/core/internals/blocks.py:616\u001b[0m, in \u001b[0;36mBlock.astype\u001b[0;34m(self, dtype, copy, errors, using_cow)\u001b[0m\n\u001b[1;32m    596\u001b[0m \u001b[38;5;250m\u001b[39m\u001b[38;5;124;03m\"\"\"\u001b[39;00m\n\u001b[1;32m    597\u001b[0m \u001b[38;5;124;03mCoerce to the new dtype.\u001b[39;00m\n\u001b[1;32m    598\u001b[0m \n\u001b[0;32m   (...)\u001b[0m\n\u001b[1;32m    612\u001b[0m \u001b[38;5;124;03mBlock\u001b[39;00m\n\u001b[1;32m    613\u001b[0m \u001b[38;5;124;03m\"\"\"\u001b[39;00m\n\u001b[1;32m    614\u001b[0m values \u001b[38;5;241m=\u001b[39m \u001b[38;5;28mself\u001b[39m\u001b[38;5;241m.\u001b[39mvalues\n\u001b[0;32m--> 616\u001b[0m new_values \u001b[38;5;241m=\u001b[39m \u001b[43mastype_array_safe\u001b[49m\u001b[43m(\u001b[49m\u001b[43mvalues\u001b[49m\u001b[43m,\u001b[49m\u001b[43m \u001b[49m\u001b[43mdtype\u001b[49m\u001b[43m,\u001b[49m\u001b[43m \u001b[49m\u001b[43mcopy\u001b[49m\u001b[38;5;241;43m=\u001b[39;49m\u001b[43mcopy\u001b[49m\u001b[43m,\u001b[49m\u001b[43m \u001b[49m\u001b[43merrors\u001b[49m\u001b[38;5;241;43m=\u001b[39;49m\u001b[43merrors\u001b[49m\u001b[43m)\u001b[49m\n\u001b[1;32m    618\u001b[0m new_values \u001b[38;5;241m=\u001b[39m maybe_coerce_values(new_values)\n\u001b[1;32m    620\u001b[0m refs \u001b[38;5;241m=\u001b[39m \u001b[38;5;28;01mNone\u001b[39;00m\n",
      "File \u001b[0;32m~/miniconda3/envs/datascience/lib/python3.12/site-packages/pandas/core/dtypes/astype.py:238\u001b[0m, in \u001b[0;36mastype_array_safe\u001b[0;34m(values, dtype, copy, errors)\u001b[0m\n\u001b[1;32m    235\u001b[0m     dtype \u001b[38;5;241m=\u001b[39m dtype\u001b[38;5;241m.\u001b[39mnumpy_dtype\n\u001b[1;32m    237\u001b[0m \u001b[38;5;28;01mtry\u001b[39;00m:\n\u001b[0;32m--> 238\u001b[0m     new_values \u001b[38;5;241m=\u001b[39m \u001b[43mastype_array\u001b[49m\u001b[43m(\u001b[49m\u001b[43mvalues\u001b[49m\u001b[43m,\u001b[49m\u001b[43m \u001b[49m\u001b[43mdtype\u001b[49m\u001b[43m,\u001b[49m\u001b[43m \u001b[49m\u001b[43mcopy\u001b[49m\u001b[38;5;241;43m=\u001b[39;49m\u001b[43mcopy\u001b[49m\u001b[43m)\u001b[49m\n\u001b[1;32m    239\u001b[0m \u001b[38;5;28;01mexcept\u001b[39;00m (\u001b[38;5;167;01mValueError\u001b[39;00m, \u001b[38;5;167;01mTypeError\u001b[39;00m):\n\u001b[1;32m    240\u001b[0m     \u001b[38;5;66;03m# e.g. _astype_nansafe can fail on object-dtype of strings\u001b[39;00m\n\u001b[1;32m    241\u001b[0m     \u001b[38;5;66;03m#  trying to convert to float\u001b[39;00m\n\u001b[1;32m    242\u001b[0m     \u001b[38;5;28;01mif\u001b[39;00m errors \u001b[38;5;241m==\u001b[39m \u001b[38;5;124m\"\u001b[39m\u001b[38;5;124mignore\u001b[39m\u001b[38;5;124m\"\u001b[39m:\n",
      "File \u001b[0;32m~/miniconda3/envs/datascience/lib/python3.12/site-packages/pandas/core/dtypes/astype.py:183\u001b[0m, in \u001b[0;36mastype_array\u001b[0;34m(values, dtype, copy)\u001b[0m\n\u001b[1;32m    180\u001b[0m     values \u001b[38;5;241m=\u001b[39m values\u001b[38;5;241m.\u001b[39mastype(dtype, copy\u001b[38;5;241m=\u001b[39mcopy)\n\u001b[1;32m    182\u001b[0m \u001b[38;5;28;01melse\u001b[39;00m:\n\u001b[0;32m--> 183\u001b[0m     values \u001b[38;5;241m=\u001b[39m \u001b[43m_astype_nansafe\u001b[49m\u001b[43m(\u001b[49m\u001b[43mvalues\u001b[49m\u001b[43m,\u001b[49m\u001b[43m \u001b[49m\u001b[43mdtype\u001b[49m\u001b[43m,\u001b[49m\u001b[43m \u001b[49m\u001b[43mcopy\u001b[49m\u001b[38;5;241;43m=\u001b[39;49m\u001b[43mcopy\u001b[49m\u001b[43m)\u001b[49m\n\u001b[1;32m    185\u001b[0m \u001b[38;5;66;03m# in pandas we don't store numpy str dtypes, so convert to object\u001b[39;00m\n\u001b[1;32m    186\u001b[0m \u001b[38;5;28;01mif\u001b[39;00m \u001b[38;5;28misinstance\u001b[39m(dtype, np\u001b[38;5;241m.\u001b[39mdtype) \u001b[38;5;129;01mand\u001b[39;00m \u001b[38;5;28missubclass\u001b[39m(values\u001b[38;5;241m.\u001b[39mdtype\u001b[38;5;241m.\u001b[39mtype, \u001b[38;5;28mstr\u001b[39m):\n",
      "File \u001b[0;32m~/miniconda3/envs/datascience/lib/python3.12/site-packages/pandas/core/dtypes/astype.py:134\u001b[0m, in \u001b[0;36m_astype_nansafe\u001b[0;34m(arr, dtype, copy, skipna)\u001b[0m\n\u001b[1;32m    130\u001b[0m     \u001b[38;5;28;01mraise\u001b[39;00m \u001b[38;5;167;01mValueError\u001b[39;00m(msg)\n\u001b[1;32m    132\u001b[0m \u001b[38;5;28;01mif\u001b[39;00m copy \u001b[38;5;129;01mor\u001b[39;00m arr\u001b[38;5;241m.\u001b[39mdtype \u001b[38;5;241m==\u001b[39m \u001b[38;5;28mobject\u001b[39m \u001b[38;5;129;01mor\u001b[39;00m dtype \u001b[38;5;241m==\u001b[39m \u001b[38;5;28mobject\u001b[39m:\n\u001b[1;32m    133\u001b[0m     \u001b[38;5;66;03m# Explicit copy, or required since NumPy can't view from / to object.\u001b[39;00m\n\u001b[0;32m--> 134\u001b[0m     \u001b[38;5;28;01mreturn\u001b[39;00m \u001b[43marr\u001b[49m\u001b[38;5;241;43m.\u001b[39;49m\u001b[43mastype\u001b[49m\u001b[43m(\u001b[49m\u001b[43mdtype\u001b[49m\u001b[43m,\u001b[49m\u001b[43m \u001b[49m\u001b[43mcopy\u001b[49m\u001b[38;5;241;43m=\u001b[39;49m\u001b[38;5;28;43;01mTrue\u001b[39;49;00m\u001b[43m)\u001b[49m\n\u001b[1;32m    136\u001b[0m \u001b[38;5;28;01mreturn\u001b[39;00m arr\u001b[38;5;241m.\u001b[39mastype(dtype, copy\u001b[38;5;241m=\u001b[39mcopy)\n",
      "\u001b[0;31mValueError\u001b[0m: invalid literal for int() with base 10: 'G'"
     ]
    }
   ],
   "source": [
    "# Define the mapping from string to boolean\n",
    "mapping = {\"Yes\": True, \"No\": False}\n",
    "\n",
    "# Use map to apply the mapping to the column\n",
    "df_cleaned[\"Tested\"] = df_cleaned[\"Tested\"].map(mapping)\n",
    "\n",
    "# Step 1: Identify Non-Numeric Values\n",
    "non_numeric_rows = df_cleaned[~df_cleaned['Place'].str.isdigit()]\n",
    "\n",
    "# Step 2: Convert Numeric Values to Integers\n",
    "numeric_rows = df_cleaned[df_cleaned['Place'].str.isdigit()]\n",
    "df_cleaned['Place'] = numeric_rows['Place'].astype(int)\n",
    "\n",
    "# Step 3: Drop Rows with Non-Numeric Values\n",
    "df_cleaned = df_cleaned.drop(non_numeric_rows.index)"
   ]
  }
 ],
 "metadata": {
  "kernelspec": {
   "display_name": "datascience",
   "language": "python",
   "name": "python3"
  },
  "language_info": {
   "codemirror_mode": {
    "name": "ipython",
    "version": 3
   },
   "file_extension": ".py",
   "mimetype": "text/x-python",
   "name": "python",
   "nbconvert_exporter": "python",
   "pygments_lexer": "ipython3",
   "version": "3.12.2"
  }
 },
 "nbformat": 4,
 "nbformat_minor": 2
}
